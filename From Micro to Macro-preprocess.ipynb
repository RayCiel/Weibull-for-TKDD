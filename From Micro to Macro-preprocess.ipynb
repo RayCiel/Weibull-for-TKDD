{
 "cells": [
  {
   "cell_type": "markdown",
   "metadata": {},
   "source": [
    "# Preprocessing "
   ]
  },
  {
   "cell_type": "code",
   "execution_count": 1,
   "metadata": {
    "collapsed": true
   },
   "outputs": [],
   "source": [
    "import numpy as np\n",
    "import pandas as pd"
   ]
  },
  {
   "cell_type": "markdown",
   "metadata": {},
   "source": [
    "## Data \n",
    "- follower_count `user`table \n",
    "- friend_count `user` table \n",
    "- friend_avg_inflow `repost` table. `friend` table.\n",
    "$\\frac{\\Sigma retweet(i) \\times in_flow(i)}{\\Sigma retweet(i)}$ retweet is the number of retweets from friend u' to user u. in_flow is the number of tweets that friend u' posts in a period of time. \n",
    "- friend_avg_outflow `repost` table `friend` table \n",
    "$\\frac{\\Sigma retweet(i) \\times retweet_rate(i)}{\\Sigma retweet(i)}$ retweet_rate is the number of retweets from user u to follower u'' in a period of time.\n",
    "- inflow rate:the number of posts user receives in a period of time (sum of the outflow rate of friends) \n",
    "- outflow rate: the number of posts user sends in a period of time `status` table \n",
    "\n",
    "Summing up all the above, we need the number of retweets from u' to u, the retweet rate from u' to u and the status_rate of any u."
   ]
  },
  {
   "cell_type": "markdown",
   "metadata": {},
   "source": [
    "## Cascades \n",
    "$T_{i,j}$ \n",
    "every repost in the cascade: (parent, user, time )\n",
    "\n",
    "*This needs complete cascade info.*"
   ]
  },
  {
   "cell_type": "markdown",
   "metadata": {
    "collapsed": true
   },
   "source": [
    "## Survival analysis \n",
    "Take a few sample cascades and see if the size growth matches survival functions."
   ]
  },
  {
   "cell_type": "markdown",
   "metadata": {
    "collapsed": true
   },
   "source": [
    "~~Implementation: take `repost` table and join with `status` table for the time. Sort by time.~~\n",
    "`status_update` tracks the growth of cascades."
   ]
  },
  {
   "cell_type": "code",
   "execution_count": 2,
   "metadata": {
    "collapsed": true
   },
   "outputs": [],
   "source": [
    "repost = pd.read_csv('data/repost.csv',header=None,names= ['original_status_id','status_id','user_id','topic','original_user_id'])"
   ]
  },
  {
   "cell_type": "code",
   "execution_count": 3,
   "metadata": {
    "collapsed": false
   },
   "outputs": [
    {
     "name": "stdout",
     "output_type": "stream",
     "text": [
      "<class 'pandas.core.frame.DataFrame'>\n",
      "RangeIndex: 614637 entries, 0 to 614636\n",
      "Data columns (total 5 columns):\n",
      "original_status_id    614637 non-null int64\n",
      "status_id             614637 non-null int64\n",
      "user_id               614637 non-null int64\n",
      "topic                 614637 non-null int64\n",
      "original_user_id      614637 non-null int64\n",
      "dtypes: int64(5)\n",
      "memory usage: 23.4 MB\n"
     ]
    }
   ],
   "source": [
    "repost.info()"
   ]
  },
  {
   "cell_type": "code",
   "execution_count": 20,
   "metadata": {
    "collapsed": true
   },
   "outputs": [],
   "source": [
    "retweet = pd.read_csv('data/retweet.csv',header=None,names = ['original_status_id','status_id','user_id'])"
   ]
  },
  {
   "cell_type": "code",
   "execution_count": 24,
   "metadata": {
    "collapsed": false
   },
   "outputs": [
    {
     "name": "stdout",
     "output_type": "stream",
     "text": [
      "<class 'pandas.core.frame.DataFrame'>\n",
      "RangeIndex: 662870 entries, 0 to 662869\n",
      "Data columns (total 3 columns):\n",
      "original_status_id    662870 non-null int64\n",
      "status_id             662870 non-null int64\n",
      "user_id               662870 non-null int64\n",
      "dtypes: int64(3)\n",
      "memory usage: 15.2 MB\n"
     ]
    }
   ],
   "source": [
    "retweet.info()"
   ]
  },
  {
   "cell_type": "markdown",
   "metadata": {},
   "source": [
    "Very small union of `friends ` table and `repost` table.\n",
    "Here we assume that all the reposts are from friend to user.\n",
    "\n",
    "Set multilevel indexes `user_id` and `original_user_id `."
   ]
  },
  {
   "cell_type": "code",
   "execution_count": 21,
   "metadata": {
    "collapsed": true
   },
   "outputs": [],
   "source": [
    "status_new = pd.read_csv('data/status_new.csv',header=None,\n",
    "                     names= ['status_id','retweet_count','favorite_count','created_at','text','catch_time','user_id'])"
   ]
  },
  {
   "cell_type": "code",
   "execution_count": 22,
   "metadata": {
    "collapsed": false
   },
   "outputs": [
    {
     "name": "stdout",
     "output_type": "stream",
     "text": [
      "<class 'pandas.core.frame.DataFrame'>\n",
      "RangeIndex: 1573155 entries, 0 to 1573154\n",
      "Data columns (total 7 columns):\n",
      "status_id         1573155 non-null int64\n",
      "retweet_count     1573155 non-null int64\n",
      "favorite_count    1573155 non-null int64\n",
      "created_at        1573155 non-null object\n",
      "text              1573155 non-null object\n",
      "catch_time        1573155 non-null object\n",
      "user_id           1573155 non-null int64\n",
      "dtypes: int64(4), object(3)\n",
      "memory usage: 84.0+ MB\n"
     ]
    }
   ],
   "source": [
    "status_new.info()"
   ]
  },
  {
   "cell_type": "code",
   "execution_count": 14,
   "metadata": {
    "collapsed": true
   },
   "outputs": [],
   "source": [
    "status = pd.read_csv('data/status.csv',header=None,\n",
    "                     names= ['status_id','retweet_count','favorite_count','created_at','text','catch_time','user_id'])"
   ]
  },
  {
   "cell_type": "code",
   "execution_count": 15,
   "metadata": {
    "collapsed": false
   },
   "outputs": [
    {
     "name": "stdout",
     "output_type": "stream",
     "text": [
      "<class 'pandas.core.frame.DataFrame'>\n",
      "RangeIndex: 2218834 entries, 0 to 2218833\n",
      "Data columns (total 7 columns):\n",
      "status_id         int64\n",
      "retweet_count     int64\n",
      "favorite_count    int64\n",
      "created_at        object\n",
      "text              object\n",
      "catch_time        object\n",
      "user_id           int64\n",
      "dtypes: int64(4), object(3)\n",
      "memory usage: 118.5+ MB\n"
     ]
    }
   ],
   "source": [
    "status.info()"
   ]
  },
  {
   "cell_type": "code",
   "execution_count": 23,
   "metadata": {
    "collapsed": true
   },
   "outputs": [],
   "source": [
    "statusall = status.append(status_new,ignore_index=True)"
   ]
  },
  {
   "cell_type": "code",
   "execution_count": 25,
   "metadata": {
    "collapsed": true
   },
   "outputs": [],
   "source": [
    "repostWithTime = pd.merge(retweet,status,how='inner',on='status_id') "
   ]
  },
  {
   "cell_type": "code",
   "execution_count": 26,
   "metadata": {
    "collapsed": false
   },
   "outputs": [
    {
     "name": "stdout",
     "output_type": "stream",
     "text": [
      "<class 'pandas.core.frame.DataFrame'>\n",
      "Int64Index: 988 entries, 0 to 987\n",
      "Data columns (total 9 columns):\n",
      "original_status_id    988 non-null int64\n",
      "status_id             988 non-null int64\n",
      "user_id_x             988 non-null int64\n",
      "retweet_count         988 non-null int64\n",
      "favorite_count        988 non-null int64\n",
      "created_at            988 non-null object\n",
      "text                  988 non-null object\n",
      "catch_time            988 non-null object\n",
      "user_id_y             988 non-null int64\n",
      "dtypes: int64(6), object(3)\n",
      "memory usage: 77.2+ KB\n"
     ]
    }
   ],
   "source": [
    "repostWithTime.info()"
   ]
  },
  {
   "cell_type": "markdown",
   "metadata": {},
   "source": [
    "*merging repost with status only yields 988 results... the repost time is yet to be known*\n",
    "*The repost rate is unknown.*"
   ]
  },
  {
   "cell_type": "code",
   "execution_count": 27,
   "metadata": {
    "collapsed": true
   },
   "outputs": [],
   "source": [
    "repost_count = repost.groupby(by=['user_id','original_user_id']).size()"
   ]
  },
  {
   "cell_type": "code",
   "execution_count": 31,
   "metadata": {
    "collapsed": false
   },
   "outputs": [],
   "source": [
    "rc = pd.DataFrame(repost_count)\n",
    "rc.reset_index(inplace=True)\n",
    "rc.columns= ['user_id','original_user_id','repostn']"
   ]
  },
  {
   "cell_type": "code",
   "execution_count": 32,
   "metadata": {
    "collapsed": false
   },
   "outputs": [
    {
     "name": "stdout",
     "output_type": "stream",
     "text": [
      "<class 'pandas.core.frame.DataFrame'>\n",
      "RangeIndex: 605409 entries, 0 to 605408\n",
      "Data columns (total 3 columns):\n",
      "user_id             605409 non-null int64\n",
      "original_user_id    605409 non-null int64\n",
      "repostn             605409 non-null int64\n",
      "dtypes: int64(3)\n",
      "memory usage: 13.9 MB\n"
     ]
    }
   ],
   "source": [
    "rc.info()"
   ]
  },
  {
   "cell_type": "code",
   "execution_count": 36,
   "metadata": {
    "collapsed": true
   },
   "outputs": [],
   "source": [
    "status_count = statusall.groupby(by=['user_id']).size()"
   ]
  },
  {
   "cell_type": "code",
   "execution_count": 38,
   "metadata": {
    "collapsed": false
   },
   "outputs": [],
   "source": [
    "sc = pd.DataFrame(status_count)\n",
    "sc.reset_index(inplace=True)\n",
    "sc.columns = ['user_id','statusn']"
   ]
  },
  {
   "cell_type": "markdown",
   "metadata": {},
   "source": [
    "We randomly collect statuses from the Twitter firehose. If the sampling is uniform, the number of statuses we collect from a user is only a fraction away from the post_rate of this user."
   ]
  },
  {
   "cell_type": "code",
   "execution_count": 39,
   "metadata": {
    "collapsed": true
   },
   "outputs": [],
   "source": [
    "friends = pd.read_csv('data/friends.csv',header=None,names = ['user_id','friend_id'])"
   ]
  },
  {
   "cell_type": "code",
   "execution_count": 40,
   "metadata": {
    "collapsed": true
   },
   "outputs": [],
   "source": [
    "inflow = pd.merge(friends,sc,left_on='friend_id',right_on='user_id',how='left')"
   ]
  },
  {
   "cell_type": "code",
   "execution_count": 43,
   "metadata": {
    "collapsed": false
   },
   "outputs": [
    {
     "name": "stdout",
     "output_type": "stream",
     "text": [
      "<class 'pandas.core.frame.DataFrame'>\n",
      "Int64Index: 28783177 entries, 0 to 28783176\n",
      "Data columns (total 3 columns):\n",
      "user_id_x    int64\n",
      "friend_id    int64\n",
      "statusn      float64\n",
      "dtypes: float64(1), int64(2)\n",
      "memory usage: 878.4 MB\n"
     ]
    }
   ],
   "source": [
    "inflow.info()"
   ]
  },
  {
   "cell_type": "code",
   "execution_count": 42,
   "metadata": {
    "collapsed": true
   },
   "outputs": [],
   "source": [
    "inflow.drop('user_id_y',axis=1,inplace=True)"
   ]
  },
  {
   "cell_type": "code",
   "execution_count": 44,
   "metadata": {
    "collapsed": true
   },
   "outputs": [],
   "source": [
    "inflow.columns=['user_id','friend_id','statusn']"
   ]
  },
  {
   "cell_type": "code",
   "execution_count": 45,
   "metadata": {
    "collapsed": true
   },
   "outputs": [],
   "source": [
    "inflow2 = pd.merge(inflow,rc,left_on=['user_id','friend_id'],right_on=['user_id','original_user_id'],how='left')"
   ]
  },
  {
   "cell_type": "code",
   "execution_count": 46,
   "metadata": {
    "collapsed": false
   },
   "outputs": [
    {
     "name": "stdout",
     "output_type": "stream",
     "text": [
      "<class 'pandas.core.frame.DataFrame'>\n",
      "Int64Index: 28783177 entries, 0 to 28783176\n",
      "Data columns (total 5 columns):\n",
      "user_id             int64\n",
      "friend_id           int64\n",
      "statusn             float64\n",
      "original_user_id    float64\n",
      "repostn             float64\n",
      "dtypes: float64(3), int64(2)\n",
      "memory usage: 1.3 GB\n"
     ]
    }
   ],
   "source": [
    "inflow2.info()"
   ]
  },
  {
   "cell_type": "code",
   "execution_count": 47,
   "metadata": {
    "collapsed": true
   },
   "outputs": [],
   "source": [
    "inflow2.drop('original_user_id',axis=1,inplace=True)\n",
    "inflow2.loc[inflow2.statusn.isnull(),'statusn']=0\n",
    "inflow2.loc[inflow2.repostn.isnull(),'repostn']=0"
   ]
  },
  {
   "cell_type": "code",
   "execution_count": 49,
   "metadata": {
    "collapsed": false
   },
   "outputs": [],
   "source": [
    "inflow2['scxrepost'] = inflow2['statusn'] * inflow2['repostn']"
   ]
  },
  {
   "cell_type": "code",
   "execution_count": 68,
   "metadata": {
    "collapsed": false
   },
   "outputs": [
    {
     "name": "stdout",
     "output_type": "stream",
     "text": [
      "<class 'pandas.core.frame.DataFrame'>\n",
      "Int64Index: 28783177 entries, 0 to 28783176\n",
      "Data columns (total 5 columns):\n",
      "user_id      int64\n",
      "friend_id    int64\n",
      "statusn      float64\n",
      "repostn      float64\n",
      "scxrepost    float64\n",
      "dtypes: float64(3), int64(2)\n",
      "memory usage: 1.3 GB\n"
     ]
    }
   ],
   "source": [
    "inflow2.info()"
   ]
  },
  {
   "cell_type": "code",
   "execution_count": 70,
   "metadata": {
    "collapsed": true
   },
   "outputs": [],
   "source": [
    "friend_avg_inflow = inflow2.groupby('user_id').agg({\n",
    "        'statusn':np.sum,\n",
    "        'repostn':np.sum,\n",
    "        'scxrepost':np.sum,\n",
    "    })"
   ]
  },
  {
   "cell_type": "code",
   "execution_count": 86,
   "metadata": {
    "collapsed": false
   },
   "outputs": [
    {
     "name": "stdout",
     "output_type": "stream",
     "text": [
      "<class 'pandas.core.frame.DataFrame'>\n",
      "RangeIndex: 80480 entries, 0 to 80479\n",
      "Data columns (total 5 columns):\n",
      "user_id                80480 non-null int64\n",
      "inflow                 80480 non-null float64\n",
      "repost_sum             80480 non-null float64\n",
      "status_weighted_sum    80480 non-null float64\n",
      "avg_inflow             80480 non-null float64\n",
      "dtypes: float64(4), int64(1)\n",
      "memory usage: 3.1 MB\n"
     ]
    }
   ],
   "source": [
    "friend_avg_inflow.info()"
   ]
  },
  {
   "cell_type": "markdown",
   "metadata": {},
   "source": [
    "After grouping by `user_id` the number of rows drops drastically. This implies that only a portion of users are included in the `friends` table."
   ]
  },
  {
   "cell_type": "code",
   "execution_count": 73,
   "metadata": {
    "collapsed": false
   },
   "outputs": [],
   "source": [
    "friend_avg_inflow.reset_index(inplace=True)\n",
    "\n",
    "friend_avg_inflow.columns = ['user_id','inflow','repost_sum','status_weighted_sum']"
   ]
  },
  {
   "cell_type": "code",
   "execution_count": 74,
   "metadata": {
    "collapsed": false
   },
   "outputs": [],
   "source": [
    "friend_avg_inflow['avg_inflow'] = friend_avg_inflow['repost_sum']/friend_avg_inflow['status_weighted_sum']"
   ]
  },
  {
   "cell_type": "code",
   "execution_count": 75,
   "metadata": {
    "collapsed": true
   },
   "outputs": [],
   "source": [
    "friend_avg_inflow.loc[friend_avg_inflow.status_weighted_sum==0,'avg_inflow']=0"
   ]
  },
  {
   "cell_type": "code",
   "execution_count": 76,
   "metadata": {
    "collapsed": false
   },
   "outputs": [
    {
     "data": {
      "text/html": [
       "<div>\n",
       "<table border=\"1\" class=\"dataframe\">\n",
       "  <thead>\n",
       "    <tr style=\"text-align: right;\">\n",
       "      <th></th>\n",
       "      <th>user_id</th>\n",
       "      <th>inflow</th>\n",
       "      <th>repost_sum</th>\n",
       "      <th>status_weighted_sum</th>\n",
       "      <th>avg_inflow</th>\n",
       "    </tr>\n",
       "  </thead>\n",
       "  <tbody>\n",
       "    <tr>\n",
       "      <th>0</th>\n",
       "      <td>1000</td>\n",
       "      <td>47.0</td>\n",
       "      <td>0.0</td>\n",
       "      <td>0.0</td>\n",
       "      <td>0.0</td>\n",
       "    </tr>\n",
       "    <tr>\n",
       "      <th>1</th>\n",
       "      <td>1001</td>\n",
       "      <td>2.0</td>\n",
       "      <td>0.0</td>\n",
       "      <td>0.0</td>\n",
       "      <td>0.0</td>\n",
       "    </tr>\n",
       "    <tr>\n",
       "      <th>2</th>\n",
       "      <td>10006</td>\n",
       "      <td>136.0</td>\n",
       "      <td>0.0</td>\n",
       "      <td>0.0</td>\n",
       "      <td>0.0</td>\n",
       "    </tr>\n",
       "    <tr>\n",
       "      <th>3</th>\n",
       "      <td>10026</td>\n",
       "      <td>106.0</td>\n",
       "      <td>0.0</td>\n",
       "      <td>0.0</td>\n",
       "      <td>0.0</td>\n",
       "    </tr>\n",
       "    <tr>\n",
       "      <th>4</th>\n",
       "      <td>10051</td>\n",
       "      <td>29.0</td>\n",
       "      <td>0.0</td>\n",
       "      <td>0.0</td>\n",
       "      <td>0.0</td>\n",
       "    </tr>\n",
       "  </tbody>\n",
       "</table>\n",
       "</div>"
      ],
      "text/plain": [
       "   user_id  inflow  repost_sum  status_weighted_sum  avg_inflow\n",
       "0     1000    47.0         0.0                  0.0         0.0\n",
       "1     1001     2.0         0.0                  0.0         0.0\n",
       "2    10006   136.0         0.0                  0.0         0.0\n",
       "3    10026   106.0         0.0                  0.0         0.0\n",
       "4    10051    29.0         0.0                  0.0         0.0"
      ]
     },
     "execution_count": 76,
     "metadata": {},
     "output_type": "execute_result"
    }
   ],
   "source": [
    "friend_avg_inflow.head()"
   ]
  },
  {
   "cell_type": "code",
   "execution_count": 77,
   "metadata": {
    "collapsed": false
   },
   "outputs": [
    {
     "name": "stdout",
     "output_type": "stream",
     "text": [
      "<class 'pandas.core.frame.DataFrame'>\n",
      "RangeIndex: 2026674 entries, 0 to 2026673\n",
      "Data columns (total 2 columns):\n",
      "user_id    int64\n",
      "statusn    int64\n",
      "dtypes: int64(2)\n",
      "memory usage: 30.9 MB\n"
     ]
    }
   ],
   "source": [
    "sc.info()"
   ]
  },
  {
   "cell_type": "code",
   "execution_count": 78,
   "metadata": {
    "collapsed": true
   },
   "outputs": [],
   "source": [
    "temp = pd.merge(friend_avg_inflow,sc,on='user_id',how='left')"
   ]
  },
  {
   "cell_type": "code",
   "execution_count": 80,
   "metadata": {
    "collapsed": false
   },
   "outputs": [
    {
     "name": "stdout",
     "output_type": "stream",
     "text": [
      "<class 'pandas.core.frame.DataFrame'>\n",
      "RangeIndex: 80480 entries, 0 to 80479\n",
      "Data columns (total 5 columns):\n",
      "user_id                80480 non-null int64\n",
      "inflow                 80480 non-null float64\n",
      "repost_sum             80480 non-null float64\n",
      "status_weighted_sum    80480 non-null float64\n",
      "avg_inflow             80480 non-null float64\n",
      "dtypes: float64(4), int64(1)\n",
      "memory usage: 3.1 MB\n"
     ]
    }
   ],
   "source": [
    "friend_avg_inflow.info()"
   ]
  },
  {
   "cell_type": "code",
   "execution_count": 83,
   "metadata": {
    "collapsed": false
   },
   "outputs": [
    {
     "name": "stdout",
     "output_type": "stream",
     "text": [
      "<class 'pandas.core.frame.DataFrame'>\n",
      "Int64Index: 80480 entries, 0 to 80479\n",
      "Data columns (total 4 columns):\n",
      "user_id       80480 non-null int64\n",
      "inflow        80480 non-null float64\n",
      "avg_inflow    80480 non-null float64\n",
      "outflow       80480 non-null float64\n",
      "dtypes: float64(3), int64(1)\n",
      "memory usage: 3.1 MB\n"
     ]
    }
   ],
   "source": [
    "temp.info()"
   ]
  },
  {
   "cell_type": "code",
   "execution_count": 81,
   "metadata": {
    "collapsed": true
   },
   "outputs": [],
   "source": [
    "temp.loc[temp.statusn.isnull(),'statusn']=0"
   ]
  },
  {
   "cell_type": "code",
   "execution_count": 82,
   "metadata": {
    "collapsed": true
   },
   "outputs": [],
   "source": [
    "temp.drop(['repost_sum','status_weighted_sum'],axis=1,inplace=True)\n",
    "temp.columns = ['user_id','inflow','avg_inflow','outflow']"
   ]
  },
  {
   "cell_type": "code",
   "execution_count": 85,
   "metadata": {
    "collapsed": false
   },
   "outputs": [],
   "source": [
    "user1 = pd.read_csv('data/users.csv',header=None,\n",
    "                    names = ['user_id','friend_count','follower_count','listed_count',\n",
    "                             'status_count','favorites_count','created_at','name','verified'],\n",
    "                   usecols=[0,1,2])\n",
    "user2 = pd.read_csv('data/users_new.csv',header=None,\n",
    "                    names = ['user_id','friend_count','follower_count','listed_count',\n",
    "                             'status_count','favorites_count','created_at','name','verified'],\n",
    "                   usecols=[0,1,2])\n",
    "users= user1.append(user2,ignore_index=True)"
   ]
  },
  {
   "cell_type": "code",
   "execution_count": 87,
   "metadata": {
    "collapsed": false
   },
   "outputs": [
    {
     "name": "stdout",
     "output_type": "stream",
     "text": [
      "<class 'pandas.core.frame.DataFrame'>\n",
      "RangeIndex: 2138359 entries, 0 to 2138358\n",
      "Data columns (total 3 columns):\n",
      "user_id           int64\n",
      "friend_count      int64\n",
      "follower_count    int64\n",
      "dtypes: int64(3)\n",
      "memory usage: 48.9 MB\n"
     ]
    }
   ],
   "source": [
    "users.info()"
   ]
  },
  {
   "cell_type": "code",
   "execution_count": 88,
   "metadata": {
    "collapsed": true
   },
   "outputs": [],
   "source": [
    "user_data = pd.merge(users,temp,on='user_id',how='left')"
   ]
  },
  {
   "cell_type": "code",
   "execution_count": 89,
   "metadata": {
    "collapsed": false
   },
   "outputs": [
    {
     "name": "stdout",
     "output_type": "stream",
     "text": [
      "<class 'pandas.core.frame.DataFrame'>\n",
      "Int64Index: 2138359 entries, 0 to 2138358\n",
      "Data columns (total 6 columns):\n",
      "user_id           int64\n",
      "friend_count      int64\n",
      "follower_count    int64\n",
      "inflow            float64\n",
      "avg_inflow        float64\n",
      "outflow           float64\n",
      "dtypes: float64(3), int64(3)\n",
      "memory usage: 114.2 MB\n"
     ]
    }
   ],
   "source": [
    "user_data.info()"
   ]
  },
  {
   "cell_type": "code",
   "execution_count": 90,
   "metadata": {
    "collapsed": true
   },
   "outputs": [],
   "source": [
    "user_data.loc[user_data.inflow.isnull(),'inflow']=0\n",
    "user_data.loc[user_data.avg_inflow.isnull(),'avg_inflow']=0\n",
    "user_data.loc[user_data.outflow.isnull(),'outflow']=0"
   ]
  },
  {
   "cell_type": "code",
   "execution_count": 92,
   "metadata": {
    "collapsed": true
   },
   "outputs": [],
   "source": [
    "user_data.to_csv('data/micro-macro-user-features.csv')"
   ]
  },
  {
   "cell_type": "markdown",
   "metadata": {},
   "source": [
    "## Testing on another dataset: Influence Locality"
   ]
  },
  {
   "cell_type": "code",
   "execution_count": 15,
   "metadata": {
    "collapsed": false
   },
   "outputs": [],
   "source": [
    "diffusion = pd.read_csv('../data/micro/diffusion-10k-training.csv',\n",
    "                        parse_dates=['time'],infer_datetime_format=True)\n"
   ]
  },
  {
   "cell_type": "code",
   "execution_count": 17,
   "metadata": {
    "collapsed": false
   },
   "outputs": [
    {
     "name": "stdout",
     "output_type": "stream",
     "text": [
      "<class 'pandas.core.frame.DataFrame'>\n",
      "RangeIndex: 1157699 entries, 0 to 1157698\n",
      "Data columns (total 4 columns):\n",
      "root_status_id    1157699 non-null int64\n",
      "root_user_id      1157699 non-null int64\n",
      "time              1157699 non-null datetime64[ns]\n",
      "user_id           1157699 non-null int64\n",
      "dtypes: datetime64[ns](1), int64(3)\n",
      "memory usage: 35.3 MB\n"
     ]
    }
   ],
   "source": [
    "diffusion.info()"
   ]
  },
  {
   "cell_type": "code",
   "execution_count": 18,
   "metadata": {
    "collapsed": true
   },
   "outputs": [],
   "source": [
    "diffusion.columns = ['original_status_id','original_user_id','time','user_id']\n",
    "\n",
    "diffusion.drop_duplicates(subset=['original_status_id','user_id'],inplace=True)"
   ]
  },
  {
   "cell_type": "code",
   "execution_count": 20,
   "metadata": {
    "collapsed": false
   },
   "outputs": [
    {
     "name": "stdout",
     "output_type": "stream",
     "text": [
      "<class 'pandas.core.frame.DataFrame'>\n",
      "Int64Index: 1157699 entries, 0 to 1157698\n",
      "Data columns (total 4 columns):\n",
      "original_status_id    1157699 non-null int64\n",
      "original_user_id      1157699 non-null int64\n",
      "time                  1157699 non-null datetime64[ns]\n",
      "user_id               1157699 non-null int64\n",
      "dtypes: datetime64[ns](1), int64(3)\n",
      "memory usage: 44.2 MB\n"
     ]
    }
   ],
   "source": [
    "diffusion.info()"
   ]
  },
  {
   "cell_type": "code",
   "execution_count": 56,
   "metadata": {
    "collapsed": true
   },
   "outputs": [],
   "source": [
    "from datetime import timedelta"
   ]
  },
  {
   "cell_type": "code",
   "execution_count": 27,
   "metadata": {
    "collapsed": false
   },
   "outputs": [],
   "source": [
    "def f(group):\n",
    "    return pd.DataFrame({\n",
    "            'count':group.size,\n",
    "            'rate':(group['time'].max()-group['time'].min())/group.size,\n",
    "            'original_user_id':group['original_user_id'],\n",
    "            'user_id':group['user_id']\n",
    "        })\n"
   ]
  },
  {
   "cell_type": "code",
   "execution_count": 28,
   "metadata": {
    "collapsed": true
   },
   "outputs": [
    {
     "ename": "KeyboardInterrupt",
     "evalue": "",
     "output_type": "error",
     "traceback": [
      "\u001b[0;31m---------------------------------------------------------------------------\u001b[0m",
      "\u001b[0;31mKeyboardInterrupt\u001b[0m                         Traceback (most recent call last)",
      "\u001b[0;32m<ipython-input-28-06ce8d0aeb97>\u001b[0m in \u001b[0;36m<module>\u001b[0;34m()\u001b[0m\n\u001b[0;32m----> 1\u001b[0;31m \u001b[0mretweet\u001b[0m \u001b[0;34m=\u001b[0m \u001b[0mdiffusion\u001b[0m\u001b[0;34m.\u001b[0m\u001b[0mgroupby\u001b[0m\u001b[0;34m(\u001b[0m\u001b[0;34m[\u001b[0m\u001b[0;34m'original_user_id'\u001b[0m\u001b[0;34m,\u001b[0m\u001b[0;34m'user_id'\u001b[0m\u001b[0;34m]\u001b[0m\u001b[0;34m)\u001b[0m\u001b[0;34m.\u001b[0m\u001b[0mapply\u001b[0m\u001b[0;34m(\u001b[0m\u001b[0mf\u001b[0m\u001b[0;34m)\u001b[0m\u001b[0;34m\u001b[0m\u001b[0m\n\u001b[0m",
      "\u001b[0;32mD:\\Anaconda\\envs\\topics\\lib\\site-packages\\pandas\\core\\groupby.py\u001b[0m in \u001b[0;36mapply\u001b[0;34m(self, func, *args, **kwargs)\u001b[0m\n\u001b[1;32m    649\u001b[0m         \u001b[0;31m# ignore SettingWithCopy here in case the user mutates\u001b[0m\u001b[0;34m\u001b[0m\u001b[0;34m\u001b[0m\u001b[0m\n\u001b[1;32m    650\u001b[0m         \u001b[0;32mwith\u001b[0m \u001b[0moption_context\u001b[0m\u001b[0;34m(\u001b[0m\u001b[0;34m'mode.chained_assignment'\u001b[0m\u001b[0;34m,\u001b[0m \u001b[0;32mNone\u001b[0m\u001b[0;34m)\u001b[0m\u001b[0;34m:\u001b[0m\u001b[0;34m\u001b[0m\u001b[0m\n\u001b[0;32m--> 651\u001b[0;31m             \u001b[0;32mreturn\u001b[0m \u001b[0mself\u001b[0m\u001b[0;34m.\u001b[0m\u001b[0m_python_apply_general\u001b[0m\u001b[0;34m(\u001b[0m\u001b[0mf\u001b[0m\u001b[0;34m)\u001b[0m\u001b[0;34m\u001b[0m\u001b[0m\n\u001b[0m\u001b[1;32m    652\u001b[0m \u001b[0;34m\u001b[0m\u001b[0m\n\u001b[1;32m    653\u001b[0m     \u001b[0;32mdef\u001b[0m \u001b[0m_python_apply_general\u001b[0m\u001b[0;34m(\u001b[0m\u001b[0mself\u001b[0m\u001b[0;34m,\u001b[0m \u001b[0mf\u001b[0m\u001b[0;34m)\u001b[0m\u001b[0;34m:\u001b[0m\u001b[0;34m\u001b[0m\u001b[0m\n",
      "\u001b[0;32mD:\\Anaconda\\envs\\topics\\lib\\site-packages\\pandas\\core\\groupby.py\u001b[0m in \u001b[0;36m_python_apply_general\u001b[0;34m(self, f)\u001b[0m\n\u001b[1;32m    653\u001b[0m     \u001b[0;32mdef\u001b[0m \u001b[0m_python_apply_general\u001b[0m\u001b[0;34m(\u001b[0m\u001b[0mself\u001b[0m\u001b[0;34m,\u001b[0m \u001b[0mf\u001b[0m\u001b[0;34m)\u001b[0m\u001b[0;34m:\u001b[0m\u001b[0;34m\u001b[0m\u001b[0m\n\u001b[1;32m    654\u001b[0m         keys, values, mutated = self.grouper.apply(f, self._selected_obj,\n\u001b[0;32m--> 655\u001b[0;31m                                                    self.axis)\n\u001b[0m\u001b[1;32m    656\u001b[0m \u001b[0;34m\u001b[0m\u001b[0m\n\u001b[1;32m    657\u001b[0m         return self._wrap_applied_output(\n",
      "\u001b[0;32mD:\\Anaconda\\envs\\topics\\lib\\site-packages\\pandas\\core\\groupby.py\u001b[0m in \u001b[0;36mapply\u001b[0;34m(self, f, data, axis)\u001b[0m\n\u001b[1;32m   1509\u001b[0m                 hasattr(splitter, 'fast_apply') and axis == 0):\n\u001b[1;32m   1510\u001b[0m             \u001b[0;32mtry\u001b[0m\u001b[0;34m:\u001b[0m\u001b[0;34m\u001b[0m\u001b[0m\n\u001b[0;32m-> 1511\u001b[0;31m                 \u001b[0mvalues\u001b[0m\u001b[0;34m,\u001b[0m \u001b[0mmutated\u001b[0m \u001b[0;34m=\u001b[0m \u001b[0msplitter\u001b[0m\u001b[0;34m.\u001b[0m\u001b[0mfast_apply\u001b[0m\u001b[0;34m(\u001b[0m\u001b[0mf\u001b[0m\u001b[0;34m,\u001b[0m \u001b[0mgroup_keys\u001b[0m\u001b[0;34m)\u001b[0m\u001b[0;34m\u001b[0m\u001b[0m\n\u001b[0m\u001b[1;32m   1512\u001b[0m                 \u001b[0;32mreturn\u001b[0m \u001b[0mgroup_keys\u001b[0m\u001b[0;34m,\u001b[0m \u001b[0mvalues\u001b[0m\u001b[0;34m,\u001b[0m \u001b[0mmutated\u001b[0m\u001b[0;34m\u001b[0m\u001b[0m\n\u001b[1;32m   1513\u001b[0m             \u001b[0;32mexcept\u001b[0m \u001b[0;34m(\u001b[0m\u001b[0mlib\u001b[0m\u001b[0;34m.\u001b[0m\u001b[0mInvalidApply\u001b[0m\u001b[0;34m)\u001b[0m\u001b[0;34m:\u001b[0m\u001b[0;34m\u001b[0m\u001b[0m\n",
      "\u001b[0;32mD:\\Anaconda\\envs\\topics\\lib\\site-packages\\pandas\\core\\groupby.py\u001b[0m in \u001b[0;36mfast_apply\u001b[0;34m(self, f, names)\u001b[0m\n\u001b[1;32m   3929\u001b[0m \u001b[0;34m\u001b[0m\u001b[0m\n\u001b[1;32m   3930\u001b[0m         \u001b[0msdata\u001b[0m \u001b[0;34m=\u001b[0m \u001b[0mself\u001b[0m\u001b[0;34m.\u001b[0m\u001b[0m_get_sorted_data\u001b[0m\u001b[0;34m(\u001b[0m\u001b[0;34m)\u001b[0m\u001b[0;34m\u001b[0m\u001b[0m\n\u001b[0;32m-> 3931\u001b[0;31m         \u001b[0mresults\u001b[0m\u001b[0;34m,\u001b[0m \u001b[0mmutated\u001b[0m \u001b[0;34m=\u001b[0m \u001b[0mlib\u001b[0m\u001b[0;34m.\u001b[0m\u001b[0mapply_frame_axis0\u001b[0m\u001b[0;34m(\u001b[0m\u001b[0msdata\u001b[0m\u001b[0;34m,\u001b[0m \u001b[0mf\u001b[0m\u001b[0;34m,\u001b[0m \u001b[0mnames\u001b[0m\u001b[0;34m,\u001b[0m \u001b[0mstarts\u001b[0m\u001b[0;34m,\u001b[0m \u001b[0mends\u001b[0m\u001b[0;34m)\u001b[0m\u001b[0;34m\u001b[0m\u001b[0m\n\u001b[0m\u001b[1;32m   3932\u001b[0m \u001b[0;34m\u001b[0m\u001b[0m\n\u001b[1;32m   3933\u001b[0m         \u001b[0;32mreturn\u001b[0m \u001b[0mresults\u001b[0m\u001b[0;34m,\u001b[0m \u001b[0mmutated\u001b[0m\u001b[0;34m\u001b[0m\u001b[0m\n",
      "\u001b[0;32mpandas\\src\\reduce.pyx\u001b[0m in \u001b[0;36mpandas.lib.apply_frame_axis0 (pandas\\lib.c:41693)\u001b[0;34m()\u001b[0m\n",
      "\u001b[0;32mD:\\Anaconda\\envs\\topics\\lib\\site-packages\\pandas\\core\\generic.py\u001b[0m in \u001b[0;36mcopy\u001b[0;34m(self, deep)\u001b[0m\n\u001b[1;32m   2970\u001b[0m         \u001b[0mcopy\u001b[0m \u001b[0;34m:\u001b[0m \u001b[0mtype\u001b[0m \u001b[0mof\u001b[0m \u001b[0mcaller\u001b[0m\u001b[0;34m\u001b[0m\u001b[0m\n\u001b[1;32m   2971\u001b[0m         \"\"\"\n\u001b[0;32m-> 2972\u001b[0;31m         \u001b[0mdata\u001b[0m \u001b[0;34m=\u001b[0m \u001b[0mself\u001b[0m\u001b[0;34m.\u001b[0m\u001b[0m_data\u001b[0m\u001b[0;34m.\u001b[0m\u001b[0mcopy\u001b[0m\u001b[0;34m(\u001b[0m\u001b[0mdeep\u001b[0m\u001b[0;34m=\u001b[0m\u001b[0mdeep\u001b[0m\u001b[0;34m)\u001b[0m\u001b[0;34m\u001b[0m\u001b[0m\n\u001b[0m\u001b[1;32m   2973\u001b[0m         \u001b[0;32mreturn\u001b[0m \u001b[0mself\u001b[0m\u001b[0;34m.\u001b[0m\u001b[0m_constructor\u001b[0m\u001b[0;34m(\u001b[0m\u001b[0mdata\u001b[0m\u001b[0;34m)\u001b[0m\u001b[0;34m.\u001b[0m\u001b[0m__finalize__\u001b[0m\u001b[0;34m(\u001b[0m\u001b[0mself\u001b[0m\u001b[0;34m)\u001b[0m\u001b[0;34m\u001b[0m\u001b[0m\n\u001b[1;32m   2974\u001b[0m \u001b[0;34m\u001b[0m\u001b[0m\n",
      "\u001b[0;32mD:\\Anaconda\\envs\\topics\\lib\\site-packages\\pandas\\core\\internals.py\u001b[0m in \u001b[0;36mcopy\u001b[0;34m(self, deep, mgr)\u001b[0m\n\u001b[1;32m   3130\u001b[0m             \u001b[0;32melse\u001b[0m\u001b[0;34m:\u001b[0m\u001b[0;34m\u001b[0m\u001b[0m\n\u001b[1;32m   3131\u001b[0m                 \u001b[0mcopy\u001b[0m \u001b[0;34m=\u001b[0m \u001b[0;32mlambda\u001b[0m \u001b[0max\u001b[0m\u001b[0;34m:\u001b[0m \u001b[0max\u001b[0m\u001b[0;34m.\u001b[0m\u001b[0mview\u001b[0m\u001b[0;34m(\u001b[0m\u001b[0;34m)\u001b[0m\u001b[0;34m\u001b[0m\u001b[0m\n\u001b[0;32m-> 3132\u001b[0;31m             \u001b[0mnew_axes\u001b[0m \u001b[0;34m=\u001b[0m \u001b[0;34m[\u001b[0m\u001b[0mcopy\u001b[0m\u001b[0;34m(\u001b[0m\u001b[0max\u001b[0m\u001b[0;34m)\u001b[0m \u001b[0;32mfor\u001b[0m \u001b[0max\u001b[0m \u001b[0;32min\u001b[0m \u001b[0mself\u001b[0m\u001b[0;34m.\u001b[0m\u001b[0maxes\u001b[0m\u001b[0;34m]\u001b[0m\u001b[0;34m\u001b[0m\u001b[0m\n\u001b[0m\u001b[1;32m   3133\u001b[0m         \u001b[0;32melse\u001b[0m\u001b[0;34m:\u001b[0m\u001b[0;34m\u001b[0m\u001b[0m\n\u001b[1;32m   3134\u001b[0m             \u001b[0mnew_axes\u001b[0m \u001b[0;34m=\u001b[0m \u001b[0mlist\u001b[0m\u001b[0;34m(\u001b[0m\u001b[0mself\u001b[0m\u001b[0;34m.\u001b[0m\u001b[0maxes\u001b[0m\u001b[0;34m)\u001b[0m\u001b[0;34m\u001b[0m\u001b[0m\n",
      "\u001b[0;32mD:\\Anaconda\\envs\\topics\\lib\\site-packages\\pandas\\core\\internals.py\u001b[0m in \u001b[0;36m<listcomp>\u001b[0;34m(.0)\u001b[0m\n\u001b[1;32m   3130\u001b[0m             \u001b[0;32melse\u001b[0m\u001b[0;34m:\u001b[0m\u001b[0;34m\u001b[0m\u001b[0m\n\u001b[1;32m   3131\u001b[0m                 \u001b[0mcopy\u001b[0m \u001b[0;34m=\u001b[0m \u001b[0;32mlambda\u001b[0m \u001b[0max\u001b[0m\u001b[0;34m:\u001b[0m \u001b[0max\u001b[0m\u001b[0;34m.\u001b[0m\u001b[0mview\u001b[0m\u001b[0;34m(\u001b[0m\u001b[0;34m)\u001b[0m\u001b[0;34m\u001b[0m\u001b[0m\n\u001b[0;32m-> 3132\u001b[0;31m             \u001b[0mnew_axes\u001b[0m \u001b[0;34m=\u001b[0m \u001b[0;34m[\u001b[0m\u001b[0mcopy\u001b[0m\u001b[0;34m(\u001b[0m\u001b[0max\u001b[0m\u001b[0;34m)\u001b[0m \u001b[0;32mfor\u001b[0m \u001b[0max\u001b[0m \u001b[0;32min\u001b[0m \u001b[0mself\u001b[0m\u001b[0;34m.\u001b[0m\u001b[0maxes\u001b[0m\u001b[0;34m]\u001b[0m\u001b[0;34m\u001b[0m\u001b[0m\n\u001b[0m\u001b[1;32m   3133\u001b[0m         \u001b[0;32melse\u001b[0m\u001b[0;34m:\u001b[0m\u001b[0;34m\u001b[0m\u001b[0m\n\u001b[1;32m   3134\u001b[0m             \u001b[0mnew_axes\u001b[0m \u001b[0;34m=\u001b[0m \u001b[0mlist\u001b[0m\u001b[0;34m(\u001b[0m\u001b[0mself\u001b[0m\u001b[0;34m.\u001b[0m\u001b[0maxes\u001b[0m\u001b[0;34m)\u001b[0m\u001b[0;34m\u001b[0m\u001b[0m\n",
      "\u001b[0;32mD:\\Anaconda\\envs\\topics\\lib\\site-packages\\pandas\\core\\internals.py\u001b[0m in \u001b[0;36m<lambda>\u001b[0;34m(ax)\u001b[0m\n\u001b[1;32m   3127\u001b[0m         \u001b[0;32mif\u001b[0m \u001b[0mdeep\u001b[0m\u001b[0;34m:\u001b[0m\u001b[0;34m\u001b[0m\u001b[0m\n\u001b[1;32m   3128\u001b[0m             \u001b[0;32mif\u001b[0m \u001b[0mdeep\u001b[0m \u001b[0;34m==\u001b[0m \u001b[0;34m'all'\u001b[0m\u001b[0;34m:\u001b[0m\u001b[0;34m\u001b[0m\u001b[0m\n\u001b[0;32m-> 3129\u001b[0;31m                 \u001b[0mcopy\u001b[0m \u001b[0;34m=\u001b[0m \u001b[0;32mlambda\u001b[0m \u001b[0max\u001b[0m\u001b[0;34m:\u001b[0m \u001b[0max\u001b[0m\u001b[0;34m.\u001b[0m\u001b[0mcopy\u001b[0m\u001b[0;34m(\u001b[0m\u001b[0mdeep\u001b[0m\u001b[0;34m=\u001b[0m\u001b[0;32mTrue\u001b[0m\u001b[0;34m)\u001b[0m\u001b[0;34m\u001b[0m\u001b[0m\n\u001b[0m\u001b[1;32m   3130\u001b[0m             \u001b[0;32melse\u001b[0m\u001b[0;34m:\u001b[0m\u001b[0;34m\u001b[0m\u001b[0m\n\u001b[1;32m   3131\u001b[0m                 \u001b[0mcopy\u001b[0m \u001b[0;34m=\u001b[0m \u001b[0;32mlambda\u001b[0m \u001b[0max\u001b[0m\u001b[0;34m:\u001b[0m \u001b[0max\u001b[0m\u001b[0;34m.\u001b[0m\u001b[0mview\u001b[0m\u001b[0;34m(\u001b[0m\u001b[0;34m)\u001b[0m\u001b[0;34m\u001b[0m\u001b[0m\n",
      "\u001b[0;32mD:\\Anaconda\\envs\\topics\\lib\\site-packages\\pandas\\indexes\\base.py\u001b[0m in \u001b[0;36mcopy\u001b[0;34m(self, name, deep, dtype, **kwargs)\u001b[0m\n\u001b[1;32m    557\u001b[0m         \u001b[0;32mif\u001b[0m \u001b[0mdeep\u001b[0m\u001b[0;34m:\u001b[0m\u001b[0;34m\u001b[0m\u001b[0m\n\u001b[1;32m    558\u001b[0m             \u001b[0;32mfrom\u001b[0m \u001b[0mcopy\u001b[0m \u001b[0;32mimport\u001b[0m \u001b[0mdeepcopy\u001b[0m\u001b[0;34m\u001b[0m\u001b[0m\n\u001b[0;32m--> 559\u001b[0;31m             \u001b[0mnew_index\u001b[0m \u001b[0;34m=\u001b[0m \u001b[0mself\u001b[0m\u001b[0;34m.\u001b[0m\u001b[0m_shallow_copy\u001b[0m\u001b[0;34m(\u001b[0m\u001b[0mself\u001b[0m\u001b[0;34m.\u001b[0m\u001b[0m_data\u001b[0m\u001b[0;34m.\u001b[0m\u001b[0mcopy\u001b[0m\u001b[0;34m(\u001b[0m\u001b[0;34m)\u001b[0m\u001b[0;34m)\u001b[0m\u001b[0;34m\u001b[0m\u001b[0m\n\u001b[0m\u001b[1;32m    560\u001b[0m             \u001b[0mname\u001b[0m \u001b[0;34m=\u001b[0m \u001b[0mname\u001b[0m \u001b[0;32mor\u001b[0m \u001b[0mdeepcopy\u001b[0m\u001b[0;34m(\u001b[0m\u001b[0mself\u001b[0m\u001b[0;34m.\u001b[0m\u001b[0mname\u001b[0m\u001b[0;34m)\u001b[0m\u001b[0;34m\u001b[0m\u001b[0m\n\u001b[1;32m    561\u001b[0m         \u001b[0;32melse\u001b[0m\u001b[0;34m:\u001b[0m\u001b[0;34m\u001b[0m\u001b[0m\n",
      "\u001b[0;31mKeyboardInterrupt\u001b[0m: "
     ]
    }
   ],
   "source": [
    "# retweet = diffusion.groupby(['original_user_id','user_id']).apply(f) \n",
    "# very slow performance"
   ]
  },
  {
   "cell_type": "code",
   "execution_count": 91,
   "metadata": {
    "collapsed": false
   },
   "outputs": [],
   "source": [
    "grouped = diffusion.groupby(['original_user_id','user_id'])\n",
    "\n",
    "count = grouped.size()\n",
    "\n",
    "max_time = grouped.time.max()\n",
    "\n",
    "min_time = grouped.time.min()\n",
    "\n",
    "rate = count.div(max_time.sub(min_time).apply(timedelta.total_seconds))"
   ]
  },
  {
   "cell_type": "code",
   "execution_count": 92,
   "metadata": {
    "collapsed": false
   },
   "outputs": [],
   "source": [
    "retweet = pd.DataFrame({\n",
    "        'rate':rate,\n",
    "        'count':count,\n",
    "    },index=count.index)"
   ]
  },
  {
   "cell_type": "code",
   "execution_count": 93,
   "metadata": {
    "collapsed": false
   },
   "outputs": [
    {
     "name": "stdout",
     "output_type": "stream",
     "text": [
      "<class 'pandas.core.frame.DataFrame'>\n",
      "MultiIndex: 1139792 entries, (36, 36) to (1786772, 1786855)\n",
      "Data columns (total 2 columns):\n",
      "count    1139792 non-null int64\n",
      "rate     1139792 non-null float64\n",
      "dtypes: float64(1), int64(1)\n",
      "memory usage: 26.1+ MB\n"
     ]
    }
   ],
   "source": [
    "retweet.info() # original_user_id | user_id | count | rate "
   ]
  },
  {
   "cell_type": "code",
   "execution_count": 108,
   "metadata": {
    "collapsed": false
   },
   "outputs": [],
   "source": [
    "retweet.loc[np.isinf(retweet['rate']),'rate']=0.0"
   ]
  },
  {
   "cell_type": "code",
   "execution_count": 109,
   "metadata": {
    "collapsed": false
   },
   "outputs": [
    {
     "data": {
      "text/html": [
       "<div>\n",
       "<table border=\"1\" class=\"dataframe\">\n",
       "  <thead>\n",
       "    <tr style=\"text-align: right;\">\n",
       "      <th></th>\n",
       "      <th></th>\n",
       "      <th>count</th>\n",
       "      <th>rate</th>\n",
       "    </tr>\n",
       "    <tr>\n",
       "      <th>original_user_id</th>\n",
       "      <th>user_id</th>\n",
       "      <th></th>\n",
       "      <th></th>\n",
       "    </tr>\n",
       "  </thead>\n",
       "  <tbody>\n",
       "    <tr>\n",
       "      <th>36</th>\n",
       "      <th>36</th>\n",
       "      <td>1</td>\n",
       "      <td>0.0</td>\n",
       "    </tr>\n",
       "    <tr>\n",
       "      <th rowspan=\"4\" valign=\"top\">52</th>\n",
       "      <th>52</th>\n",
       "      <td>1</td>\n",
       "      <td>0.0</td>\n",
       "    </tr>\n",
       "    <tr>\n",
       "      <th>256469</th>\n",
       "      <td>1</td>\n",
       "      <td>0.0</td>\n",
       "    </tr>\n",
       "    <tr>\n",
       "      <th>331685</th>\n",
       "      <td>1</td>\n",
       "      <td>0.0</td>\n",
       "    </tr>\n",
       "    <tr>\n",
       "      <th>487544</th>\n",
       "      <td>1</td>\n",
       "      <td>0.0</td>\n",
       "    </tr>\n",
       "  </tbody>\n",
       "</table>\n",
       "</div>"
      ],
      "text/plain": [
       "                          count  rate\n",
       "original_user_id user_id             \n",
       "36               36           1   0.0\n",
       "52               52           1   0.0\n",
       "                 256469       1   0.0\n",
       "                 331685       1   0.0\n",
       "                 487544       1   0.0"
      ]
     },
     "execution_count": 109,
     "metadata": {},
     "output_type": "execute_result"
    }
   ],
   "source": [
    "retweet.head()"
   ]
  },
  {
   "cell_type": "code",
   "execution_count": 111,
   "metadata": {
    "collapsed": false
   },
   "outputs": [],
   "source": [
    "g = diffusion.groupby('user_id')\n",
    "outflow = g.size().div(g.time.max().sub(g.time.min()).apply(timedelta.total_seconds))\n",
    "\n",
    "outflow.loc[np.isinf(outflow)]=0.0"
   ]
  },
  {
   "cell_type": "code",
   "execution_count": 114,
   "metadata": {
    "collapsed": false
   },
   "outputs": [],
   "source": [
    "A = retweet.reset_index()\n",
    "B = pd.DataFrame(outflow).reset_index()\n",
    "tmp = A.merge(B,left_on='original_user_id',right_on='user_id',how='inner')"
   ]
  },
  {
   "cell_type": "code",
   "execution_count": 115,
   "metadata": {
    "collapsed": false
   },
   "outputs": [
    {
     "data": {
      "text/html": [
       "<div>\n",
       "<table border=\"1\" class=\"dataframe\">\n",
       "  <thead>\n",
       "    <tr style=\"text-align: right;\">\n",
       "      <th></th>\n",
       "      <th>original_user_id</th>\n",
       "      <th>user_id_x</th>\n",
       "      <th>count</th>\n",
       "      <th>rate</th>\n",
       "      <th>user_id_y</th>\n",
       "      <th>0</th>\n",
       "    </tr>\n",
       "  </thead>\n",
       "  <tbody>\n",
       "    <tr>\n",
       "      <th>0</th>\n",
       "      <td>36</td>\n",
       "      <td>36</td>\n",
       "      <td>1</td>\n",
       "      <td>0.0</td>\n",
       "      <td>36</td>\n",
       "      <td>1.836699e-07</td>\n",
       "    </tr>\n",
       "    <tr>\n",
       "      <th>1</th>\n",
       "      <td>52</td>\n",
       "      <td>52</td>\n",
       "      <td>1</td>\n",
       "      <td>0.0</td>\n",
       "      <td>52</td>\n",
       "      <td>2.453959e-07</td>\n",
       "    </tr>\n",
       "    <tr>\n",
       "      <th>2</th>\n",
       "      <td>52</td>\n",
       "      <td>256469</td>\n",
       "      <td>1</td>\n",
       "      <td>0.0</td>\n",
       "      <td>52</td>\n",
       "      <td>2.453959e-07</td>\n",
       "    </tr>\n",
       "    <tr>\n",
       "      <th>3</th>\n",
       "      <td>52</td>\n",
       "      <td>331685</td>\n",
       "      <td>1</td>\n",
       "      <td>0.0</td>\n",
       "      <td>52</td>\n",
       "      <td>2.453959e-07</td>\n",
       "    </tr>\n",
       "    <tr>\n",
       "      <th>4</th>\n",
       "      <td>52</td>\n",
       "      <td>487544</td>\n",
       "      <td>1</td>\n",
       "      <td>0.0</td>\n",
       "      <td>52</td>\n",
       "      <td>2.453959e-07</td>\n",
       "    </tr>\n",
       "  </tbody>\n",
       "</table>\n",
       "</div>"
      ],
      "text/plain": [
       "   original_user_id  user_id_x  count  rate  user_id_y             0\n",
       "0                36         36      1   0.0         36  1.836699e-07\n",
       "1                52         52      1   0.0         52  2.453959e-07\n",
       "2                52     256469      1   0.0         52  2.453959e-07\n",
       "3                52     331685      1   0.0         52  2.453959e-07\n",
       "4                52     487544      1   0.0         52  2.453959e-07"
      ]
     },
     "execution_count": 115,
     "metadata": {},
     "output_type": "execute_result"
    }
   ],
   "source": [
    "tmp.head()"
   ]
  },
  {
   "cell_type": "code",
   "execution_count": null,
   "metadata": {
    "collapsed": true
   },
   "outputs": [],
   "source": [
    "tmp.drop('user_id_y',axis=1,inplace=True)\n",
    "tmp.columns = ['original_user_id','user_id','count','rate','inflow']\n",
    "\n",
    "tmp['cxo'] = tmp['count'] * tmp['inflow']"
   ]
  },
  {
   "cell_type": "code",
   "execution_count": 128,
   "metadata": {
    "collapsed": true
   },
   "outputs": [],
   "source": [
    "avg_inflow = tmp.groupby('user_id').aggregate({\n",
    "        'cxo':np.sum,\n",
    "        'count':np.sum,\n",
    "        'inflow':np.sum,\n",
    "    })\n",
    "\n",
    "avg_inflow['avg_inflow'] = avg_inflow['cxo']/avg_inflow['count']"
   ]
  },
  {
   "cell_type": "code",
   "execution_count": 129,
   "metadata": {
    "collapsed": false
   },
   "outputs": [
    {
     "data": {
      "text/html": [
       "<div>\n",
       "<table border=\"1\" class=\"dataframe\">\n",
       "  <thead>\n",
       "    <tr style=\"text-align: right;\">\n",
       "      <th></th>\n",
       "      <th>cxo</th>\n",
       "      <th>inflow</th>\n",
       "      <th>count</th>\n",
       "      <th>avg_inflow</th>\n",
       "    </tr>\n",
       "    <tr>\n",
       "      <th>user_id</th>\n",
       "      <th></th>\n",
       "      <th></th>\n",
       "      <th></th>\n",
       "      <th></th>\n",
       "    </tr>\n",
       "  </thead>\n",
       "  <tbody>\n",
       "    <tr>\n",
       "      <th>0</th>\n",
       "      <td>4.674190e-07</td>\n",
       "      <td>4.674190e-07</td>\n",
       "      <td>1</td>\n",
       "      <td>4.674190e-07</td>\n",
       "    </tr>\n",
       "    <tr>\n",
       "      <th>1</th>\n",
       "      <td>1.111496e-07</td>\n",
       "      <td>1.111496e-07</td>\n",
       "      <td>1</td>\n",
       "      <td>1.111496e-07</td>\n",
       "    </tr>\n",
       "    <tr>\n",
       "      <th>3</th>\n",
       "      <td>3.937098e-07</td>\n",
       "      <td>3.937098e-07</td>\n",
       "      <td>4</td>\n",
       "      <td>9.842745e-08</td>\n",
       "    </tr>\n",
       "    <tr>\n",
       "      <th>7</th>\n",
       "      <td>3.343089e-07</td>\n",
       "      <td>3.343089e-07</td>\n",
       "      <td>1</td>\n",
       "      <td>3.343089e-07</td>\n",
       "    </tr>\n",
       "    <tr>\n",
       "      <th>8</th>\n",
       "      <td>2.623796e-07</td>\n",
       "      <td>2.623796e-07</td>\n",
       "      <td>3</td>\n",
       "      <td>8.745988e-08</td>\n",
       "    </tr>\n",
       "  </tbody>\n",
       "</table>\n",
       "</div>"
      ],
      "text/plain": [
       "                  cxo        inflow  count    avg_inflow\n",
       "user_id                                                 \n",
       "0        4.674190e-07  4.674190e-07      1  4.674190e-07\n",
       "1        1.111496e-07  1.111496e-07      1  1.111496e-07\n",
       "3        3.937098e-07  3.937098e-07      4  9.842745e-08\n",
       "7        3.343089e-07  3.343089e-07      1  3.343089e-07\n",
       "8        2.623796e-07  2.623796e-07      3  8.745988e-08"
      ]
     },
     "execution_count": 129,
     "metadata": {},
     "output_type": "execute_result"
    }
   ],
   "source": [
    "avg_inflow.head()"
   ]
  },
  {
   "cell_type": "code",
   "execution_count": 122,
   "metadata": {
    "collapsed": true
   },
   "outputs": [],
   "source": [
    "A['cxr'] = A['count'] * A['rate']\n",
    "avg_outflow = A.groupby('original_user_id').aggregate({\n",
    "        'cxr':np.sum,\n",
    "        'count':np.sum,\n",
    "    })\n",
    "avg_outflow['avg_outflow'] = avg_outflow['cxr']/avg_outflow['count']"
   ]
  },
  {
   "cell_type": "code",
   "execution_count": 123,
   "metadata": {
    "collapsed": false
   },
   "outputs": [
    {
     "data": {
      "text/html": [
       "<div>\n",
       "<table border=\"1\" class=\"dataframe\">\n",
       "  <thead>\n",
       "    <tr style=\"text-align: right;\">\n",
       "      <th></th>\n",
       "      <th>cxr</th>\n",
       "      <th>count</th>\n",
       "      <th>avg_outflow</th>\n",
       "    </tr>\n",
       "    <tr>\n",
       "      <th>original_user_id</th>\n",
       "      <th></th>\n",
       "      <th></th>\n",
       "      <th></th>\n",
       "    </tr>\n",
       "  </thead>\n",
       "  <tbody>\n",
       "    <tr>\n",
       "      <th>36</th>\n",
       "      <td>0.000000e+00</td>\n",
       "      <td>1</td>\n",
       "      <td>0.000000e+00</td>\n",
       "    </tr>\n",
       "    <tr>\n",
       "      <th>52</th>\n",
       "      <td>0.000000e+00</td>\n",
       "      <td>7</td>\n",
       "      <td>0.000000e+00</td>\n",
       "    </tr>\n",
       "    <tr>\n",
       "      <th>62</th>\n",
       "      <td>2.208047e-07</td>\n",
       "      <td>2</td>\n",
       "      <td>1.104024e-07</td>\n",
       "    </tr>\n",
       "    <tr>\n",
       "      <th>112</th>\n",
       "      <td>0.000000e+00</td>\n",
       "      <td>1</td>\n",
       "      <td>0.000000e+00</td>\n",
       "    </tr>\n",
       "    <tr>\n",
       "      <th>124</th>\n",
       "      <td>0.000000e+00</td>\n",
       "      <td>9</td>\n",
       "      <td>0.000000e+00</td>\n",
       "    </tr>\n",
       "  </tbody>\n",
       "</table>\n",
       "</div>"
      ],
      "text/plain": [
       "                           cxr  count   avg_outflow\n",
       "original_user_id                                   \n",
       "36                0.000000e+00      1  0.000000e+00\n",
       "52                0.000000e+00      7  0.000000e+00\n",
       "62                2.208047e-07      2  1.104024e-07\n",
       "112               0.000000e+00      1  0.000000e+00\n",
       "124               0.000000e+00      9  0.000000e+00"
      ]
     },
     "execution_count": 123,
     "metadata": {},
     "output_type": "execute_result"
    }
   ],
   "source": [
    "avg_outflow.head()"
   ]
  },
  {
   "cell_type": "code",
   "execution_count": null,
   "metadata": {
    "collapsed": true
   },
   "outputs": [],
   "source": [
    "user_detail = avg_inflow[['inflow','avg_inflow']].join(avg_outflow[['avg_outflow']],how='outer',)\n",
    "\n",
    "user_detail.fillna(0,inplace=True)\n",
    "\n",
    "outflow.name='outflow'"
   ]
  },
  {
   "cell_type": "code",
   "execution_count": null,
   "metadata": {
    "collapsed": true
   },
   "outputs": [],
   "source": [
    "user_data = user_detail.join(outflow,how='outer')\n",
    "\n",
    "user_data.reset_index(inplace=True)"
   ]
  },
  {
   "cell_type": "code",
   "execution_count": 147,
   "metadata": {
    "collapsed": true
   },
   "outputs": [],
   "source": [
    "user_data.columns=['user_id','inflow','avg_inflow','avg_outflow','outflow']"
   ]
  },
  {
   "cell_type": "code",
   "execution_count": 149,
   "metadata": {
    "collapsed": true
   },
   "outputs": [],
   "source": [
    "user_data.to_csv('../data/micro/user_detail.csv',index=False)"
   ]
  },
  {
   "cell_type": "code",
   "execution_count": 148,
   "metadata": {
    "collapsed": false
   },
   "outputs": [
    {
     "data": {
      "text/html": [
       "<div>\n",
       "<table border=\"1\" class=\"dataframe\">\n",
       "  <thead>\n",
       "    <tr style=\"text-align: right;\">\n",
       "      <th></th>\n",
       "      <th>user_id</th>\n",
       "      <th>inflow</th>\n",
       "      <th>avg_inflow</th>\n",
       "      <th>avg_outflow</th>\n",
       "      <th>outflow</th>\n",
       "    </tr>\n",
       "  </thead>\n",
       "  <tbody>\n",
       "    <tr>\n",
       "      <th>0</th>\n",
       "      <td>0</td>\n",
       "      <td>4.674190e-07</td>\n",
       "      <td>4.674190e-07</td>\n",
       "      <td>0.0</td>\n",
       "      <td>0.000000e+00</td>\n",
       "    </tr>\n",
       "    <tr>\n",
       "      <th>1</th>\n",
       "      <td>1</td>\n",
       "      <td>1.111496e-07</td>\n",
       "      <td>1.111496e-07</td>\n",
       "      <td>0.0</td>\n",
       "      <td>0.000000e+00</td>\n",
       "    </tr>\n",
       "    <tr>\n",
       "      <th>2</th>\n",
       "      <td>3</td>\n",
       "      <td>3.937098e-07</td>\n",
       "      <td>9.842745e-08</td>\n",
       "      <td>0.0</td>\n",
       "      <td>1.124817e-07</td>\n",
       "    </tr>\n",
       "    <tr>\n",
       "      <th>3</th>\n",
       "      <td>7</td>\n",
       "      <td>3.343089e-07</td>\n",
       "      <td>3.343089e-07</td>\n",
       "      <td>0.0</td>\n",
       "      <td>0.000000e+00</td>\n",
       "    </tr>\n",
       "    <tr>\n",
       "      <th>4</th>\n",
       "      <td>8</td>\n",
       "      <td>2.623796e-07</td>\n",
       "      <td>8.745988e-08</td>\n",
       "      <td>0.0</td>\n",
       "      <td>5.636523e-08</td>\n",
       "    </tr>\n",
       "  </tbody>\n",
       "</table>\n",
       "</div>"
      ],
      "text/plain": [
       "   user_id        inflow    avg_inflow  avg_outflow       outflow\n",
       "0        0  4.674190e-07  4.674190e-07          0.0  0.000000e+00\n",
       "1        1  1.111496e-07  1.111496e-07          0.0  0.000000e+00\n",
       "2        3  3.937098e-07  9.842745e-08          0.0  1.124817e-07\n",
       "3        7  3.343089e-07  3.343089e-07          0.0  0.000000e+00\n",
       "4        8  2.623796e-07  8.745988e-08          0.0  5.636523e-08"
      ]
     },
     "execution_count": 148,
     "metadata": {},
     "output_type": "execute_result"
    }
   ],
   "source": [
    "user_data.head()"
   ]
  },
  {
   "cell_type": "markdown",
   "metadata": {},
   "source": [
    "### Sampling and profiling"
   ]
  },
  {
   "cell_type": "code",
   "execution_count": 35,
   "metadata": {
    "collapsed": true
   },
   "outputs": [],
   "source": [
    "diffusion_subset = diffusion.sample(frac=0.01)"
   ]
  },
  {
   "cell_type": "code",
   "execution_count": 36,
   "metadata": {
    "collapsed": false
   },
   "outputs": [
    {
     "name": "stdout",
     "output_type": "stream",
     "text": [
      "1 loop, best of 3: 14.8 s per loop\n"
     ]
    }
   ],
   "source": [
    "%timeit diffusion_subset.groupby(['original_user_id','user_id']).apply(lambda x: (x.time.max()-x.time.min())/x.size)"
   ]
  },
  {
   "cell_type": "code",
   "execution_count": 41,
   "metadata": {
    "collapsed": false
   },
   "outputs": [
    {
     "name": "stdout",
     "output_type": "stream",
     "text": [
      "1 loop, best of 3: 12 s per loop\n"
     ]
    }
   ],
   "source": [
    "%timeit diffusion_subset.groupby(['original_user_id','user_id']).aggregate({'time':lambda x: np.max(x) - np.min(x)})"
   ]
  },
  {
   "cell_type": "code",
   "execution_count": 45,
   "metadata": {
    "collapsed": true
   },
   "outputs": [],
   "source": [
    "def get_tweet_rate(group):\n",
    "    return pd.DataFrame({\n",
    "            'count':group.size,\n",
    "            'max':group.time.max(),\n",
    "            'min':group.time.min(),\n",
    "        },index=group.index)"
   ]
  },
  {
   "cell_type": "code",
   "execution_count": 46,
   "metadata": {
    "collapsed": false
   },
   "outputs": [
    {
     "name": "stdout",
     "output_type": "stream",
     "text": [
      "1 loop, best of 3: 54.6 s per loop\n"
     ]
    }
   ],
   "source": [
    "%timeit diffusion_subset.groupby(['original_user_id','user_id']).apply(get_tweet_rate)"
   ]
  },
  {
   "cell_type": "markdown",
   "metadata": {
    "collapsed": true
   },
   "source": [
    "##  Model preparation"
   ]
  },
  {
   "cell_type": "code",
   "execution_count": 2,
   "metadata": {
    "collapsed": true
   },
   "outputs": [],
   "source": [
    "user_data = pd.read_csv('../data/micro/user_data-10k.csv')\n",
    "cascade = pd.read_csv('../data/micro/diffusion-10k.csv',\n",
    "                          parse_dates=['time'],\n",
    "                          infer_datetime_format=True)"
   ]
  },
  {
   "cell_type": "code",
   "execution_count": 3,
   "metadata": {
    "collapsed": false
   },
   "outputs": [],
   "source": [
    "cascade.columns = ['original_status_id', 'original_user_id', 'time', 'user_id']"
   ]
  },
  {
   "cell_type": "code",
   "execution_count": 4,
   "metadata": {
    "collapsed": false
   },
   "outputs": [],
   "source": [
    "from pickle import load\n",
    "with  open('../data/micro/messaged-10k', 'rb') as mfile:\n",
    "    message_dict = load(mfile)"
   ]
  },
  {
   "cell_type": "code",
   "execution_count": 5,
   "metadata": {
    "collapsed": true
   },
   "outputs": [],
   "source": [
    "def map_index(df, col_list, dict_list):  # col is string array of column names, dict is a dictionary array\n",
    "    df_mapped = df.copy()\n",
    "    for i in range(len(col_list)):\n",
    "        col = col_list[i]\n",
    "        d = dict_list[i]\n",
    "        # only apply if x exists as key , else return None\n",
    "\n",
    "        df_mapped[col] = df_mapped[col].apply(lambda x: d.get(x))\n",
    "        df_mapped = df_mapped.dropna(subset=[col, ])\n",
    "    return df_mapped.set_index(col_list)"
   ]
  },
  {
   "cell_type": "code",
   "execution_count": 6,
   "metadata": {
    "collapsed": true
   },
   "outputs": [],
   "source": [
    "cascade_mapped = map_index(cascade,['original_status_id'],[message_dict])"
   ]
  },
  {
   "cell_type": "code",
   "execution_count": 7,
   "metadata": {
    "collapsed": false
   },
   "outputs": [
    {
     "name": "stdout",
     "output_type": "stream",
     "text": [
      "<class 'pandas.core.frame.DataFrame'>\n",
      "Int64Index: 1537661 entries, 0 to 9999\n",
      "Data columns (total 3 columns):\n",
      "original_user_id    1537661 non-null int64\n",
      "time                1537661 non-null datetime64[ns]\n",
      "user_id             1537661 non-null int64\n",
      "dtypes: datetime64[ns](1), int64(2)\n",
      "memory usage: 46.9 MB\n"
     ]
    }
   ],
   "source": [
    "cascade_mapped.info()"
   ]
  },
  {
   "cell_type": "code",
   "execution_count": 7,
   "metadata": {
    "collapsed": true
   },
   "outputs": [],
   "source": [
    "messagen = len(message_dict)\n",
    "# usern = user_data.shape[0]\n",
    "usern = cascade_mapped.original_user_id.max()+1 "
   ]
  },
  {
   "cell_type": "code",
   "execution_count": 8,
   "metadata": {
    "collapsed": true
   },
   "outputs": [],
   "source": [
    "from scipy import sparse\n",
    "from datetime import timedelta"
   ]
  },
  {
   "cell_type": "code",
   "execution_count": 9,
   "metadata": {
    "collapsed": true
   },
   "outputs": [],
   "source": [
    "user_data.set_index('uid', inplace=True)"
   ]
  },
  {
   "cell_type": "code",
   "execution_count": null,
   "metadata": {
    "collapsed": true
   },
   "outputs": [],
   "source": []
  },
  {
   "cell_type": "code",
   "execution_count": 10,
   "metadata": {
    "collapsed": false
   },
   "outputs": [],
   "source": [
    "def to_sparse(t, m, n):  # create sparse matrix from multi-index\n",
    "    i, j = list(zip(*t.index))\n",
    "    data = t.values\n",
    "    return sparse.coo_matrix((data, (i, j)), shape=(m, n))"
   ]
  },
  {
   "cell_type": "code",
   "execution_count": 11,
   "metadata": {
    "collapsed": false
   },
   "outputs": [],
   "source": [
    "def get_delta_series(group):\n",
    "    # return Series\n",
    "    s = pd.Series((group['time'] - group['time'].min()).apply(lambda dt: dt / timedelta(seconds=1)),index=group.index)\n",
    "    return s"
   ]
  },
  {
   "cell_type": "code",
   "execution_count": 12,
   "metadata": {
    "collapsed": false
   },
   "outputs": [],
   "source": [
    "user_matrix = user_data.as_matrix()\n",
    "\n",
    "# cascade.sort_values(['original_status_id', 'original_user_id', 'time'], axis=0, inplace=True)\n",
    "# M is the number of reposts for each <cascade, original_user> pair\n",
    "m = cascade_mapped.reset_index().groupby(['original_status_id', 'original_user_id']).size()\n",
    "m_sparse = to_sparse(m,messagen,usern)#m is sparse\n",
    "\n",
    "C = cascade_mapped.reset_index().groupby(['original_status_id', 'original_user_id']).apply(get_delta_series)\n",
    "C.index = C.index.droplevel(2)  # drop the original index\n",
    "C = C[C != 0]"
   ]
  },
  {
   "cell_type": "code",
   "execution_count": 14,
   "metadata": {
    "collapsed": false
   },
   "outputs": [
    {
     "data": {
      "text/plain": [
       "original_status_id  original_user_id\n",
       "0                   1500872               3\n",
       "1                   153602               18\n",
       "2                   519514              104\n",
       "3                   490872              146\n",
       "4                   1501242               5\n",
       "dtype: int64"
      ]
     },
     "execution_count": 14,
     "metadata": {},
     "output_type": "execute_result"
    }
   ],
   "source": [
    "m.head()"
   ]
  },
  {
   "cell_type": "code",
   "execution_count": 13,
   "metadata": {
    "collapsed": true
   },
   "outputs": [],
   "source": [
    "def G1(Lambda, K, C, m, cascaden,usern):\n",
    "    logL = 0\n",
    "    for i in range(cascaden):\n",
    "        tmp =pd.DataFrame(C.loc[i, :]).reset_index().\\\n",
    "            drop('original_status_id', axis=1)\\\n",
    "            .set_index(['original_user_id'], append=True)\n",
    "        tmp.index = tmp.index.swaplevel(i=0,j=1)\n",
    "        coln = m.getrow(i).sum()\n",
    "        c_sparse = to_sparse(tmp['time'],usern,coln )\n",
    "        K_full = np.hstack((K,) * coln)\n",
    "        p = np.power(c_sparse.toarray(),K_full).sum(axis=0)\n",
    "        logL = logL + m.getrow(i).multiply(np.log(K).transpose()).sum() + \\\n",
    "               (np.log(c_sparse.toarray()).sum(axis=0) * (K-1)).sum()-\\\n",
    "               m.getrow(i).multiply(K.transpose()).multiply(np.log(Lambda.transpose())).sum() -\\\n",
    "            (np.power(Lambda,K*(-1))*p).sum()\n",
    "        break\n",
    "    return -logL"
   ]
  },
  {
   "cell_type": "code",
   "execution_count": 14,
   "metadata": {
    "collapsed": true
   },
   "outputs": [],
   "source": [
    "K_array = np.ones((usern,1))\n",
    "Lambda_array = np.ones((usern,1))"
   ]
  },
  {
   "cell_type": "code",
   "execution_count": 18,
   "metadata": {
    "collapsed": false
   },
   "outputs": [
    {
     "name": "stdout",
     "output_type": "stream",
     "text": [
      "1 loop, best of 3: 3.11 s per loop\n"
     ]
    }
   ],
   "source": [
    "%timeit loglikelihood = G1(Lambda_array,K_array,C,m_sparse,messagen,usern) #this will take 3h for 10k"
   ]
  },
  {
   "cell_type": "code",
   "execution_count": 44,
   "metadata": {
    "collapsed": false
   },
   "outputs": [],
   "source": [
    "Beta = np.random.rand(7,1)\n",
    "Gamma = np.random.rand(7,1)\n",
    "Alpha = [6 * 10 ** (-5), 8 * 10 ** (-6)]  # according to the paper\n",
    "Mu = 10\n",
    "Yita = 10"
   ]
  },
  {
   "cell_type": "code",
   "execution_count": 37,
   "metadata": {
    "collapsed": true
   },
   "outputs": [],
   "source": [
    "def get_C_row(C, usern, coln, i):\n",
    "    tmp = pd.DataFrame(C.loc[i, :]).reset_index().drop('original_status_id', axis=1).set_index(['original_user_id'], append=True)\n",
    "    tmp.index = tmp.index.swaplevel(i=0, j=1)\n",
    "    c_sparse = to_sparse(tmp['time'], usern, coln)\n",
    "    return c_sparse.toarray()"
   ]
  },
  {
   "cell_type": "code",
   "execution_count": 83,
   "metadata": {
    "collapsed": true
   },
   "outputs": [],
   "source": [
    "def derLambda(L, cascaden, usern, C, m, user_data, Alpha, Mu, K, Beta):\n",
    "    derG1 = np.zeros(L.shape) #col vector\n",
    "    for i in range(cascaden):\n",
    "        coln = m.getrow(i).sum()\n",
    "        c_array = get_C_row(C, usern, coln, i)\n",
    "        K_full = np.hstack((K,) * coln)\n",
    "        p = to_col(np.power(c_array,K_full).sum(axis=1))\n",
    "        a = m.getrow(i).transpose().multiply(K)/L  # col\n",
    "        b = np.power(L,K-1) *p *K\n",
    "        derG1 = derG1 +a +b\n",
    "        break \n",
    "    loss = np.log(L) - np.log(user_data).dot(Beta)\n",
    "    derG2 = 1/usern * (loss / L)\n",
    "    result = derG1 + derG2 * Mu\n",
    "    return result"
   ]
  },
  {
   "cell_type": "code",
   "execution_count": 84,
   "metadata": {
    "collapsed": true
   },
   "outputs": [
    {
     "ename": "ValueError",
     "evalue": "operands could not be broadcast together with shapes (1786773,1) (1655678,1) ",
     "output_type": "error",
     "traceback": [
      "\u001b[0;31m---------------------------------------------------------------------------\u001b[0m",
      "\u001b[0;31mValueError\u001b[0m                                Traceback (most recent call last)",
      "\u001b[0;32m<ipython-input-84-c3812cf88111>\u001b[0m in \u001b[0;36m<module>\u001b[0;34m()\u001b[0m\n\u001b[0;32m----> 1\u001b[0;31m \u001b[0mget_ipython\u001b[0m\u001b[0;34m(\u001b[0m\u001b[0;34m)\u001b[0m\u001b[0;34m.\u001b[0m\u001b[0mmagic\u001b[0m\u001b[0;34m(\u001b[0m\u001b[0;34m'timeit result = derLambda(Lambda_array,messagen,usern,C,m_sparse,user_matrix,Alpha,Mu,K_array,Beta)'\u001b[0m\u001b[0;34m)\u001b[0m\u001b[0;34m\u001b[0m\u001b[0m\n\u001b[0m",
      "\u001b[0;32mD:\\Anaconda\\envs\\topics\\lib\\site-packages\\IPython\\core\\interactiveshell.py\u001b[0m in \u001b[0;36mmagic\u001b[0;34m(self, arg_s)\u001b[0m\n\u001b[1;32m   2144\u001b[0m         \u001b[0mmagic_name\u001b[0m\u001b[0;34m,\u001b[0m \u001b[0m_\u001b[0m\u001b[0;34m,\u001b[0m \u001b[0mmagic_arg_s\u001b[0m \u001b[0;34m=\u001b[0m \u001b[0marg_s\u001b[0m\u001b[0;34m.\u001b[0m\u001b[0mpartition\u001b[0m\u001b[0;34m(\u001b[0m\u001b[0;34m' '\u001b[0m\u001b[0;34m)\u001b[0m\u001b[0;34m\u001b[0m\u001b[0m\n\u001b[1;32m   2145\u001b[0m         \u001b[0mmagic_name\u001b[0m \u001b[0;34m=\u001b[0m \u001b[0mmagic_name\u001b[0m\u001b[0;34m.\u001b[0m\u001b[0mlstrip\u001b[0m\u001b[0;34m(\u001b[0m\u001b[0mprefilter\u001b[0m\u001b[0;34m.\u001b[0m\u001b[0mESC_MAGIC\u001b[0m\u001b[0;34m)\u001b[0m\u001b[0;34m\u001b[0m\u001b[0m\n\u001b[0;32m-> 2146\u001b[0;31m         \u001b[0;32mreturn\u001b[0m \u001b[0mself\u001b[0m\u001b[0;34m.\u001b[0m\u001b[0mrun_line_magic\u001b[0m\u001b[0;34m(\u001b[0m\u001b[0mmagic_name\u001b[0m\u001b[0;34m,\u001b[0m \u001b[0mmagic_arg_s\u001b[0m\u001b[0;34m)\u001b[0m\u001b[0;34m\u001b[0m\u001b[0m\n\u001b[0m\u001b[1;32m   2147\u001b[0m \u001b[0;34m\u001b[0m\u001b[0m\n\u001b[1;32m   2148\u001b[0m     \u001b[0;31m#-------------------------------------------------------------------------\u001b[0m\u001b[0;34m\u001b[0m\u001b[0;34m\u001b[0m\u001b[0m\n",
      "\u001b[0;32mD:\\Anaconda\\envs\\topics\\lib\\site-packages\\IPython\\core\\interactiveshell.py\u001b[0m in \u001b[0;36mrun_line_magic\u001b[0;34m(self, magic_name, line)\u001b[0m\n\u001b[1;32m   2065\u001b[0m                 \u001b[0mkwargs\u001b[0m\u001b[0;34m[\u001b[0m\u001b[0;34m'local_ns'\u001b[0m\u001b[0;34m]\u001b[0m \u001b[0;34m=\u001b[0m \u001b[0msys\u001b[0m\u001b[0;34m.\u001b[0m\u001b[0m_getframe\u001b[0m\u001b[0;34m(\u001b[0m\u001b[0mstack_depth\u001b[0m\u001b[0;34m)\u001b[0m\u001b[0;34m.\u001b[0m\u001b[0mf_locals\u001b[0m\u001b[0;34m\u001b[0m\u001b[0m\n\u001b[1;32m   2066\u001b[0m             \u001b[0;32mwith\u001b[0m \u001b[0mself\u001b[0m\u001b[0;34m.\u001b[0m\u001b[0mbuiltin_trap\u001b[0m\u001b[0;34m:\u001b[0m\u001b[0;34m\u001b[0m\u001b[0m\n\u001b[0;32m-> 2067\u001b[0;31m                 \u001b[0mresult\u001b[0m \u001b[0;34m=\u001b[0m \u001b[0mfn\u001b[0m\u001b[0;34m(\u001b[0m\u001b[0;34m*\u001b[0m\u001b[0margs\u001b[0m\u001b[0;34m,\u001b[0m\u001b[0;34m**\u001b[0m\u001b[0mkwargs\u001b[0m\u001b[0;34m)\u001b[0m\u001b[0;34m\u001b[0m\u001b[0m\n\u001b[0m\u001b[1;32m   2068\u001b[0m             \u001b[0;32mreturn\u001b[0m \u001b[0mresult\u001b[0m\u001b[0;34m\u001b[0m\u001b[0m\n\u001b[1;32m   2069\u001b[0m \u001b[0;34m\u001b[0m\u001b[0m\n",
      "\u001b[0;32m<decorator-gen-59>\u001b[0m in \u001b[0;36mtimeit\u001b[0;34m(self, line, cell)\u001b[0m\n",
      "\u001b[0;32mD:\\Anaconda\\envs\\topics\\lib\\site-packages\\IPython\\core\\magic.py\u001b[0m in \u001b[0;36m<lambda>\u001b[0;34m(f, *a, **k)\u001b[0m\n\u001b[1;32m    186\u001b[0m     \u001b[0;31m# but it's overkill for just that one bit of state.\u001b[0m\u001b[0;34m\u001b[0m\u001b[0;34m\u001b[0m\u001b[0m\n\u001b[1;32m    187\u001b[0m     \u001b[0;32mdef\u001b[0m \u001b[0mmagic_deco\u001b[0m\u001b[0;34m(\u001b[0m\u001b[0marg\u001b[0m\u001b[0;34m)\u001b[0m\u001b[0;34m:\u001b[0m\u001b[0;34m\u001b[0m\u001b[0m\n\u001b[0;32m--> 188\u001b[0;31m         \u001b[0mcall\u001b[0m \u001b[0;34m=\u001b[0m \u001b[0;32mlambda\u001b[0m \u001b[0mf\u001b[0m\u001b[0;34m,\u001b[0m \u001b[0;34m*\u001b[0m\u001b[0ma\u001b[0m\u001b[0;34m,\u001b[0m \u001b[0;34m**\u001b[0m\u001b[0mk\u001b[0m\u001b[0;34m:\u001b[0m \u001b[0mf\u001b[0m\u001b[0;34m(\u001b[0m\u001b[0;34m*\u001b[0m\u001b[0ma\u001b[0m\u001b[0;34m,\u001b[0m \u001b[0;34m**\u001b[0m\u001b[0mk\u001b[0m\u001b[0;34m)\u001b[0m\u001b[0;34m\u001b[0m\u001b[0m\n\u001b[0m\u001b[1;32m    189\u001b[0m \u001b[0;34m\u001b[0m\u001b[0m\n\u001b[1;32m    190\u001b[0m         \u001b[0;32mif\u001b[0m \u001b[0mcallable\u001b[0m\u001b[0;34m(\u001b[0m\u001b[0marg\u001b[0m\u001b[0;34m)\u001b[0m\u001b[0;34m:\u001b[0m\u001b[0;34m\u001b[0m\u001b[0m\n",
      "\u001b[0;32mD:\\Anaconda\\envs\\topics\\lib\\site-packages\\IPython\\core\\magics\\execution.py\u001b[0m in \u001b[0;36mtimeit\u001b[0;34m(self, line, cell)\u001b[0m\n\u001b[1;32m   1038\u001b[0m             \u001b[0mnumber\u001b[0m \u001b[0;34m=\u001b[0m \u001b[0;36m1\u001b[0m\u001b[0;34m\u001b[0m\u001b[0m\n\u001b[1;32m   1039\u001b[0m             \u001b[0;32mfor\u001b[0m \u001b[0m_\u001b[0m \u001b[0;32min\u001b[0m \u001b[0mrange\u001b[0m\u001b[0;34m(\u001b[0m\u001b[0;36m1\u001b[0m\u001b[0;34m,\u001b[0m \u001b[0;36m10\u001b[0m\u001b[0;34m)\u001b[0m\u001b[0;34m:\u001b[0m\u001b[0;34m\u001b[0m\u001b[0m\n\u001b[0;32m-> 1040\u001b[0;31m                 \u001b[0mtime_number\u001b[0m \u001b[0;34m=\u001b[0m \u001b[0mtimer\u001b[0m\u001b[0;34m.\u001b[0m\u001b[0mtimeit\u001b[0m\u001b[0;34m(\u001b[0m\u001b[0mnumber\u001b[0m\u001b[0;34m)\u001b[0m\u001b[0;34m\u001b[0m\u001b[0m\n\u001b[0m\u001b[1;32m   1041\u001b[0m                 \u001b[0mworst_tuning\u001b[0m \u001b[0;34m=\u001b[0m \u001b[0mmax\u001b[0m\u001b[0;34m(\u001b[0m\u001b[0mworst_tuning\u001b[0m\u001b[0;34m,\u001b[0m \u001b[0mtime_number\u001b[0m \u001b[0;34m/\u001b[0m \u001b[0mnumber\u001b[0m\u001b[0;34m)\u001b[0m\u001b[0;34m\u001b[0m\u001b[0m\n\u001b[1;32m   1042\u001b[0m                 \u001b[0;32mif\u001b[0m \u001b[0mtime_number\u001b[0m \u001b[0;34m>=\u001b[0m \u001b[0;36m0.2\u001b[0m\u001b[0;34m:\u001b[0m\u001b[0;34m\u001b[0m\u001b[0m\n",
      "\u001b[0;32mD:\\Anaconda\\envs\\topics\\lib\\site-packages\\IPython\\core\\magics\\execution.py\u001b[0m in \u001b[0;36mtimeit\u001b[0;34m(self, number)\u001b[0m\n\u001b[1;32m    137\u001b[0m         \u001b[0mgc\u001b[0m\u001b[0;34m.\u001b[0m\u001b[0mdisable\u001b[0m\u001b[0;34m(\u001b[0m\u001b[0;34m)\u001b[0m\u001b[0;34m\u001b[0m\u001b[0m\n\u001b[1;32m    138\u001b[0m         \u001b[0;32mtry\u001b[0m\u001b[0;34m:\u001b[0m\u001b[0;34m\u001b[0m\u001b[0m\n\u001b[0;32m--> 139\u001b[0;31m             \u001b[0mtiming\u001b[0m \u001b[0;34m=\u001b[0m \u001b[0mself\u001b[0m\u001b[0;34m.\u001b[0m\u001b[0minner\u001b[0m\u001b[0;34m(\u001b[0m\u001b[0mit\u001b[0m\u001b[0;34m,\u001b[0m \u001b[0mself\u001b[0m\u001b[0;34m.\u001b[0m\u001b[0mtimer\u001b[0m\u001b[0;34m)\u001b[0m\u001b[0;34m\u001b[0m\u001b[0m\n\u001b[0m\u001b[1;32m    140\u001b[0m         \u001b[0;32mfinally\u001b[0m\u001b[0;34m:\u001b[0m\u001b[0;34m\u001b[0m\u001b[0m\n\u001b[1;32m    141\u001b[0m             \u001b[0;32mif\u001b[0m \u001b[0mgcold\u001b[0m\u001b[0;34m:\u001b[0m\u001b[0;34m\u001b[0m\u001b[0m\n",
      "\u001b[0;32m<magic-timeit>\u001b[0m in \u001b[0;36minner\u001b[0;34m(_it, _timer)\u001b[0m\n",
      "\u001b[0;32m<ipython-input-83-ccb40e209a10>\u001b[0m in \u001b[0;36mderLambda\u001b[0;34m(L, cascaden, usern, C, m, user_data, Alpha, Mu, K, Beta)\u001b[0m\n\u001b[1;32m     10\u001b[0m         \u001b[0mderG1\u001b[0m \u001b[0;34m=\u001b[0m \u001b[0mderG1\u001b[0m \u001b[0;34m+\u001b[0m\u001b[0ma\u001b[0m \u001b[0;34m+\u001b[0m\u001b[0mb\u001b[0m\u001b[0;34m\u001b[0m\u001b[0m\n\u001b[1;32m     11\u001b[0m         \u001b[0;32mbreak\u001b[0m\u001b[0;34m\u001b[0m\u001b[0m\n\u001b[0;32m---> 12\u001b[0;31m     \u001b[0mloss\u001b[0m \u001b[0;34m=\u001b[0m \u001b[0mnp\u001b[0m\u001b[0;34m.\u001b[0m\u001b[0mlog\u001b[0m\u001b[0;34m(\u001b[0m\u001b[0mL\u001b[0m\u001b[0;34m)\u001b[0m \u001b[0;34m-\u001b[0m \u001b[0mnp\u001b[0m\u001b[0;34m.\u001b[0m\u001b[0mlog\u001b[0m\u001b[0;34m(\u001b[0m\u001b[0muser_data\u001b[0m\u001b[0;34m)\u001b[0m\u001b[0;34m.\u001b[0m\u001b[0mdot\u001b[0m\u001b[0;34m(\u001b[0m\u001b[0mBeta\u001b[0m\u001b[0;34m)\u001b[0m\u001b[0;34m\u001b[0m\u001b[0m\n\u001b[0m\u001b[1;32m     13\u001b[0m     \u001b[0mderG2\u001b[0m \u001b[0;34m=\u001b[0m \u001b[0;36m1\u001b[0m\u001b[0;34m/\u001b[0m\u001b[0musern\u001b[0m \u001b[0;34m*\u001b[0m \u001b[0;34m(\u001b[0m\u001b[0mloss\u001b[0m \u001b[0;34m/\u001b[0m \u001b[0mL\u001b[0m\u001b[0;34m)\u001b[0m\u001b[0;34m\u001b[0m\u001b[0m\n\u001b[1;32m     14\u001b[0m     \u001b[0mresult\u001b[0m \u001b[0;34m=\u001b[0m \u001b[0mderG1\u001b[0m \u001b[0;34m+\u001b[0m \u001b[0mderG2\u001b[0m \u001b[0;34m*\u001b[0m \u001b[0mMu\u001b[0m\u001b[0;34m\u001b[0m\u001b[0m\n",
      "\u001b[0;31mValueError\u001b[0m: operands could not be broadcast together with shapes (1786773,1) (1655678,1) "
     ]
    }
   ],
   "source": [
    "%timeit result = derLambda(Lambda_array,messagen,usern,C,m_sparse,user_matrix,Alpha,Mu,K_array,Beta)"
   ]
  },
  {
   "cell_type": "code",
   "execution_count": null,
   "metadata": {
    "collapsed": true
   },
   "outputs": [],
   "source": [
    "# L and K should be the same shapes as user_data "
   ]
  },
  {
   "cell_type": "code",
   "execution_count": 80,
   "metadata": {
    "collapsed": true
   },
   "outputs": [],
   "source": [
    "def to_col(l):\n",
    "    return np.ndarray(buffer=l,shape=(l.shape[0],1))"
   ]
  },
  {
   "cell_type": "code",
   "execution_count": 81,
   "metadata": {
    "collapsed": true
   },
   "outputs": [],
   "source": [
    "def derK(K, cascaden, usern, C, m, user_data, Alpha, Yita, Lambda, Gamma):\n",
    "    derG1 = np.zeros(K.shape)\n",
    "    for i in range(cascaden):\n",
    "        coln = m.getrow(i).sum()\n",
    "        c_array = get_C_row(C,usern,coln,i)\n",
    "        tmpm = m.getrow(i)\n",
    "        K_full = np.hstack((K,) * coln)\n",
    "        p= to_col(np.power(c_array,K_full).sum(axis=1))\n",
    "        q = to_col((np.power(c_array,K_full) * np.log(c_array)).sum(axis=1))\n",
    "        derG1 = derG1 + tmpm.transpose()/K \\\n",
    "             + to_col(np.log(c_array).sum(axis=1)) \\\n",
    "             - tmpm.transpose().multiply(np.log(Lambda)).toarray()\\\n",
    "             + np.power(Lambda,K*(-1)) * np.log(K) * p \\\n",
    "             - np.power(Lambda,K*(-1))*q\n",
    "        break\n",
    "    loss = np.log(K) - np.log(user_data).dot(Gamma)\n",
    "    derG3 = 1/usern * (loss/K)\n",
    "    result = derG1 + derG3 *Yita\n",
    "    return result"
   ]
  },
  {
   "cell_type": "code",
   "execution_count": 82,
   "metadata": {
    "collapsed": false
   },
   "outputs": [
    {
     "ename": "ValueError",
     "evalue": "operands could not be broadcast together with shapes (1786773,1) (1655678,1) ",
     "output_type": "error",
     "traceback": [
      "\u001b[0;31m---------------------------------------------------------------------------\u001b[0m",
      "\u001b[0;31mValueError\u001b[0m                                Traceback (most recent call last)",
      "\u001b[0;32m<ipython-input-82-b3feaa6069f6>\u001b[0m in \u001b[0;36m<module>\u001b[0;34m()\u001b[0m\n\u001b[0;32m----> 1\u001b[0;31m \u001b[0mresult2\u001b[0m \u001b[0;34m=\u001b[0m \u001b[0mderK\u001b[0m\u001b[0;34m(\u001b[0m\u001b[0mK_array\u001b[0m\u001b[0;34m,\u001b[0m\u001b[0mmessagen\u001b[0m\u001b[0;34m,\u001b[0m\u001b[0musern\u001b[0m\u001b[0;34m,\u001b[0m\u001b[0mC\u001b[0m\u001b[0;34m,\u001b[0m\u001b[0mm_sparse\u001b[0m\u001b[0;34m,\u001b[0m\u001b[0muser_matrix\u001b[0m\u001b[0;34m,\u001b[0m\u001b[0mAlpha\u001b[0m\u001b[0;34m,\u001b[0m\u001b[0mYita\u001b[0m\u001b[0;34m,\u001b[0m\u001b[0mLambda_array\u001b[0m\u001b[0;34m,\u001b[0m\u001b[0mGamma\u001b[0m\u001b[0;34m)\u001b[0m\u001b[0;34m\u001b[0m\u001b[0m\n\u001b[0m",
      "\u001b[0;32m<ipython-input-81-1f739817b43e>\u001b[0m in \u001b[0;36mderK\u001b[0;34m(K, cascaden, usern, C, m, user_data, Alpha, Yita, Lambda, Gamma)\u001b[0m\n\u001b[1;32m     10\u001b[0m         \u001b[0mderG1\u001b[0m \u001b[0;34m=\u001b[0m \u001b[0mderG1\u001b[0m \u001b[0;34m+\u001b[0m \u001b[0mtmpm\u001b[0m\u001b[0;34m.\u001b[0m\u001b[0mtranspose\u001b[0m\u001b[0;34m(\u001b[0m\u001b[0;34m)\u001b[0m\u001b[0;34m/\u001b[0m\u001b[0mK\u001b[0m              \u001b[0;34m+\u001b[0m \u001b[0mto_col\u001b[0m\u001b[0;34m(\u001b[0m\u001b[0mnp\u001b[0m\u001b[0;34m.\u001b[0m\u001b[0mlog\u001b[0m\u001b[0;34m(\u001b[0m\u001b[0mc_array\u001b[0m\u001b[0;34m)\u001b[0m\u001b[0;34m.\u001b[0m\u001b[0msum\u001b[0m\u001b[0;34m(\u001b[0m\u001b[0maxis\u001b[0m\u001b[0;34m=\u001b[0m\u001b[0;36m1\u001b[0m\u001b[0;34m)\u001b[0m\u001b[0;34m)\u001b[0m              \u001b[0;34m-\u001b[0m \u001b[0mtmpm\u001b[0m\u001b[0;34m.\u001b[0m\u001b[0mtranspose\u001b[0m\u001b[0;34m(\u001b[0m\u001b[0;34m)\u001b[0m\u001b[0;34m.\u001b[0m\u001b[0mmultiply\u001b[0m\u001b[0;34m(\u001b[0m\u001b[0mnp\u001b[0m\u001b[0;34m.\u001b[0m\u001b[0mlog\u001b[0m\u001b[0;34m(\u001b[0m\u001b[0mLambda\u001b[0m\u001b[0;34m)\u001b[0m\u001b[0;34m)\u001b[0m\u001b[0;34m.\u001b[0m\u001b[0mtoarray\u001b[0m\u001b[0;34m(\u001b[0m\u001b[0;34m)\u001b[0m             \u001b[0;34m+\u001b[0m \u001b[0mnp\u001b[0m\u001b[0;34m.\u001b[0m\u001b[0mpower\u001b[0m\u001b[0;34m(\u001b[0m\u001b[0mLambda\u001b[0m\u001b[0;34m,\u001b[0m\u001b[0mK\u001b[0m\u001b[0;34m*\u001b[0m\u001b[0;34m(\u001b[0m\u001b[0;34m-\u001b[0m\u001b[0;36m1\u001b[0m\u001b[0;34m)\u001b[0m\u001b[0;34m)\u001b[0m \u001b[0;34m*\u001b[0m \u001b[0mnp\u001b[0m\u001b[0;34m.\u001b[0m\u001b[0mlog\u001b[0m\u001b[0;34m(\u001b[0m\u001b[0mK\u001b[0m\u001b[0;34m)\u001b[0m \u001b[0;34m*\u001b[0m \u001b[0mp\u001b[0m              \u001b[0;34m-\u001b[0m \u001b[0mnp\u001b[0m\u001b[0;34m.\u001b[0m\u001b[0mpower\u001b[0m\u001b[0;34m(\u001b[0m\u001b[0mLambda\u001b[0m\u001b[0;34m,\u001b[0m\u001b[0mK\u001b[0m\u001b[0;34m*\u001b[0m\u001b[0;34m(\u001b[0m\u001b[0;34m-\u001b[0m\u001b[0;36m1\u001b[0m\u001b[0;34m)\u001b[0m\u001b[0;34m)\u001b[0m\u001b[0;34m*\u001b[0m\u001b[0mq\u001b[0m\u001b[0;34m\u001b[0m\u001b[0m\n\u001b[1;32m     11\u001b[0m         \u001b[0;32mbreak\u001b[0m\u001b[0;34m\u001b[0m\u001b[0m\n\u001b[0;32m---> 12\u001b[0;31m     \u001b[0mloss\u001b[0m \u001b[0;34m=\u001b[0m \u001b[0mnp\u001b[0m\u001b[0;34m.\u001b[0m\u001b[0mlog\u001b[0m\u001b[0;34m(\u001b[0m\u001b[0mK\u001b[0m\u001b[0;34m)\u001b[0m \u001b[0;34m-\u001b[0m \u001b[0mnp\u001b[0m\u001b[0;34m.\u001b[0m\u001b[0mlog\u001b[0m\u001b[0;34m(\u001b[0m\u001b[0muser_data\u001b[0m\u001b[0;34m)\u001b[0m\u001b[0;34m.\u001b[0m\u001b[0mdot\u001b[0m\u001b[0;34m(\u001b[0m\u001b[0mGamma\u001b[0m\u001b[0;34m)\u001b[0m\u001b[0;34m\u001b[0m\u001b[0m\n\u001b[0m\u001b[1;32m     13\u001b[0m     \u001b[0mderG3\u001b[0m \u001b[0;34m=\u001b[0m \u001b[0;36m1\u001b[0m\u001b[0;34m/\u001b[0m\u001b[0musern\u001b[0m \u001b[0;34m*\u001b[0m \u001b[0;34m(\u001b[0m\u001b[0mloss\u001b[0m\u001b[0;34m/\u001b[0m\u001b[0mK\u001b[0m\u001b[0;34m)\u001b[0m\u001b[0;34m\u001b[0m\u001b[0m\n\u001b[1;32m     14\u001b[0m     \u001b[0mresult\u001b[0m \u001b[0;34m=\u001b[0m \u001b[0mderG1\u001b[0m \u001b[0;34m+\u001b[0m \u001b[0mderG3\u001b[0m \u001b[0;34m*\u001b[0m\u001b[0mYita\u001b[0m\u001b[0;34m\u001b[0m\u001b[0m\n",
      "\u001b[0;31mValueError\u001b[0m: operands could not be broadcast together with shapes (1786773,1) (1655678,1) "
     ]
    }
   ],
   "source": [
    "result2 = derK(K_array,messagen,usern,C,m_sparse,user_matrix,Alpha,Yita,Lambda_array,Gamma)"
   ]
  },
  {
   "cell_type": "code",
   "execution_count": null,
   "metadata": {
    "collapsed": true
   },
   "outputs": [],
   "source": []
  }
 ],
 "metadata": {
  "anaconda-cloud": {},
  "kernelspec": {
   "display_name": "Python [topics]",
   "language": "python",
   "name": "Python [topics]"
  },
  "language_info": {
   "codemirror_mode": {
    "name": "ipython",
    "version": 3
   },
   "file_extension": ".py",
   "mimetype": "text/x-python",
   "name": "python",
   "nbconvert_exporter": "python",
   "pygments_lexer": "ipython3",
   "version": "3.5.2"
  }
 },
 "nbformat": 4,
 "nbformat_minor": 0
}
